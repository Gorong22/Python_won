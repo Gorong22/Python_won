{
 "cells": [
  {
   "cell_type": "code",
   "execution_count": 41,
   "id": "ff65bb7e-a4a9-4193-b5b4-940677e91fd1",
   "metadata": {},
   "outputs": [
    {
     "name": "stdout",
     "output_type": "stream",
     "text": [
      "1 - SEO e SEM: guida avanzata al web marketing\n",
      "2 - Marketing digital. Posicionamiento SEO, SEM y Redes sociales\n",
      "3 - Effective SEO and content marketing: the ultimate guide for maximizing free web traffic\n",
      "4 - Search engine marketing\n",
      "5 - Application of Online Marketing Methods and SEO Technologies for Web Resources Analysis within the Region.\n"
     ]
    }
   ],
   "source": [
    "#구글 Scholar에서 'SEO Marketing' 논문 제목을 5개 수집하세요.\n",
    "from selenium import webdriver\n",
    "from selenium.webdriver.chrome.options import Options\n",
    "from selenium.webdriver.chrome.service import Service\n",
    "from selenium.webdriver.common.by import By\n",
    "from webdriver_manager.chrome import ChromeDriverManager\n",
    "import time \n",
    "\n",
    "service = Service(ChromeDriverManager().install())\n",
    "options = Options()\n",
    "\n",
    "options.add_argument(\"--window-size=1920x1080\")\n",
    "options.add_argument(\"--Mozilla/5.0 (Linux; Android 6.0; Nexus 5 Build/MRA58N) AppleWebKit/537.36 (KHTML, like Gecko) Chrome/138.0.0.0 Mobile Safari/537.36\")\n",
    "options.add_argument(\"--lang=ko_KR\")\n",
    "\n",
    "\n",
    "driver = webdriver.Chrome(service=service, options=options)\n",
    "driver.get(\"https://scholar.google.com/scholar?hl=ko&as_sdt=0%2C5&q=SEO+Marketing&btnG=\")\n",
    "\n",
    "\n",
    "titles = driver.find_elements(By.CSS_SELECTOR, \"div.gs_r.gs_or.gs_scl\")\n",
    "\n",
    "for i, title in enumerate(titles[5:], start=1) :\n",
    "    seo = title.find_elements(By.XPATH, \".//h3[@class='gs_rt']\")\n",
    "    for seo2 in seo :\n",
    "        seo3 = seo2.find_element(By.TAG_NAME, \"a\")\n",
    "        print(f\"{i} - {seo3.text}\")"
   ]
  },
  {
   "cell_type": "code",
   "execution_count": 57,
   "id": "d0ac387c-fdd7-4ede-94cd-973c5bc84144",
   "metadata": {},
   "outputs": [
    {
     "ename": "TypeError",
     "evalue": "'WebElement' object is not subscriptable",
     "output_type": "error",
     "traceback": [
      "\u001b[0;31m---------------------------------------------------------------------------\u001b[0m",
      "\u001b[0;31mTypeError\u001b[0m                                 Traceback (most recent call last)",
      "Cell \u001b[0;32mIn[57], line 26\u001b[0m\n\u001b[1;32m     24\u001b[0m \u001b[38;5;28;01mfor\u001b[39;00m rows \u001b[38;5;129;01min\u001b[39;00m row :\n\u001b[1;32m     25\u001b[0m     lan1 \u001b[38;5;241m=\u001b[39m rows\u001b[38;5;241m.\u001b[39mfind_element(By\u001b[38;5;241m.\u001b[39mTAG_NAME, \u001b[38;5;124m\"\u001b[39m\u001b[38;5;124mtd\u001b[39m\u001b[38;5;124m\"\u001b[39m)\n\u001b[0;32m---> 26\u001b[0m     language \u001b[38;5;241m=\u001b[39m lan1[\u001b[38;5;241m3\u001b[39m]\u001b[38;5;241m.\u001b[39mtext\n\u001b[1;32m     27\u001b[0m     \u001b[38;5;28mprint\u001b[39m(language\u001b[38;5;241m.\u001b[39mtext)\n",
      "\u001b[0;31mTypeError\u001b[0m: 'WebElement' object is not subscriptable"
     ]
    }
   ],
   "source": [
    "#TIOBE Index 사이트에서 상위 10개 프로그래밍 언어 이름을 수집하세요.\n",
    "from selenium import webdriver\n",
    "from selenium.webdriver.chrome.options import Options\n",
    "from selenium.webdriver.chrome.service import Service\n",
    "from selenium.webdriver.common.by import By\n",
    "from webdriver_manager.chrome import ChromeDriverManager\n",
    "import time \n",
    "\n",
    "service = Service(ChromeDriverManager().install())\n",
    "options = Options()\n",
    "\n",
    "options.add_argument(\"--window-size=1920x1080\")\n",
    "options.add_argument(\"--Mozilla/5.0 (Linux; Android 6.0; Nexus 5 Build/MRA58N) AppleWebKit/537.36 (KHTML, like Gecko) Chrome/138.0.0.0 Mobile Safari/537.36\")\n",
    "options.add_argument(\"--lang=ko_KR\")\n",
    "\n",
    "\n",
    "driver = webdriver.Chrome(service=service, options=options)\n",
    "driver.get(\"https://www.tiobe.com/tiobe-index/\")\n",
    "\n",
    "program = driver.find_elements(By.CSS_SELECTOR, \"table.table.table-striped.table-top20\")\n",
    "row = driver.find_elements(By.CSS_SELECTOR, \"tbody > tr\")\n",
    "\n",
    "\n",
    "for rows in row :\n",
    "    lan1 = rows.find_element(By.TAG_NAME, \"td\")\n",
    "    language = lan1[3].text\n",
    "    print(language.text)\n"
   ]
  }
 ],
 "metadata": {
  "kernelspec": {
   "display_name": "Python [conda env:base] *",
   "language": "python",
   "name": "conda-base-py"
  },
  "language_info": {
   "codemirror_mode": {
    "name": "ipython",
    "version": 3
   },
   "file_extension": ".py",
   "mimetype": "text/x-python",
   "name": "python",
   "nbconvert_exporter": "python",
   "pygments_lexer": "ipython3",
   "version": "3.13.5"
  }
 },
 "nbformat": 4,
 "nbformat_minor": 5
}
