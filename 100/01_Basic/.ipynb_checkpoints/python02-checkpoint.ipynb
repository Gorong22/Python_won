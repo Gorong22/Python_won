{
 "cells": [
  {
   "cell_type": "code",
   "execution_count": 5,
   "id": "4b8851d3-d919-47a2-8cfd-76f37fad71aa",
   "metadata": {},
   "outputs": [
    {
     "name": "stdout",
     "output_type": "stream",
     "text": [
      "마케팅(영어: marketing)은 시장 경제(영어: exchange relationship) 또는 수요를 관리하는 경영학의 한 분야이다. 소비자를 대상으로 고객을 창조하고 유지 · 관리함으로써 고정고객으로 만드는 모든 활동 즉, 고객과 관련된 모든 활동을 의미한다. 마케팅은 광고, 영업 등을 포함하며 창의성을 내포하는 산업이자 소비자가 가질 수 있는 미래의 요구와 욕구를 예측하는 일로 한정되었으나 21세기 이후에는 어떤 '잠재적인 욕구'를 자극하여 표면상으로 이끌어 내는 행위나 동기로 용어의 적용 범위가 확대되고, 시장에서 벗어나 일상의 행위에서도 마케팅이라는 용어가 등장하게 되었다.\n"
     ]
    }
   ],
   "source": [
    "from selenium import webdriver\n",
    "from selenium.webdriver.chrome.service import Service\n",
    "from selenium.webdriver.chrome.options import Options\n",
    "from webdriver_manager.chrome import ChromeDriverManager\n",
    "from selenium.webdriver.common.by import By\n",
    "import time\n",
    "\n",
    "service = Service(ChromeDriverManager().install())\n",
    "\n",
    "driver=webdriver.Chrome(service=service)\n",
    "\n",
    "url = \"https://ko.wikipedia.org/wiki/%EB%A7%88%EC%BC%80%ED%8C%85\"\n",
    "driver.get(url)\n",
    "time.sleep(3)\n",
    "\n",
    "try :\n",
    "    marketing = driver.find_element(By.XPATH, \"//p\")\n",
    "    print(marketing.text)\n",
    "\n",
    "except Exception as e :\n",
    "    print(\"실패\")"
   ]
  },
  {
   "cell_type": "code",
   "execution_count": 9,
   "id": "e4e8340c-afe3-4bf3-97a3-87e75714ae97",
   "metadata": {},
   "outputs": [
    {
     "name": "stdout",
     "output_type": "stream",
     "text": [
      "1-서울시 식품위생업소 (층) 현황 \n",
      "2-서울시 식품위생업소 현황 \n",
      "3-상상대로 서울 자유제안 정보 \n",
      "4-서울시 횡단보도예고표시 관련 정보 \n",
      "5-서울글로벌센터 접수유형 및 상담유형별(월) 상담실적 \n",
      "6-서울시 음향신호기 관련 정보 \n",
      "7-서울시 신호등 관련 정보 \n",
      "8-서울시 교차로 관련 정보 \n",
      "9-서울글로벌센터 상담유형별(월) 상담실적 \n",
      "10-서울글로벌센터 상담유형별(분기) 상담실적 \n"
     ]
    }
   ],
   "source": [
    "from selenium import webdriver\n",
    "from selenium.webdriver.chrome.service import Service\n",
    "from webdriver_manager.chrome import ChromeDriverManager\n",
    "from selenium.webdriver.common.by import By\n",
    "import time \n",
    "\n",
    "service = Service(ChromeDriverManager().install())\n",
    "\n",
    "driver=webdriver.Chrome(service=service)\n",
    "\n",
    "url = \"https://data.seoul.go.kr/dataList/datasetList.do\"\n",
    "driver.get(url)\n",
    "time.sleep(3)\n",
    "\n",
    "title = driver.find_elements(By.CSS_SELECTOR, \"dl.type-b\")\n",
    "\n",
    "for i, titles in enumerate(title, start=1) :\n",
    "    a = titles.find_element(By.CSS_SELECTOR, \"a.goView\")\n",
    "    print(f\"{i}-{a.text}\") "
   ]
  },
  {
   "cell_type": "code",
   "execution_count": 13,
   "id": "926b6629-48a6-4529-aa13-4c543087d6a1",
   "metadata": {},
   "outputs": [
    {
     "ename": "NoSuchElementException",
     "evalue": "Message: no such element: Unable to locate element: {\"method\":\"xpath\",\"selector\":\"//a[title]\"}\n  (Session info: chrome=138.0.7204.184); For documentation on this error, please visit: https://www.selenium.dev/documentation/webdriver/troubleshooting/errors#nosuchelementexception\nStacktrace:\n0   chromedriver                        0x000000010d743b88 chromedriver + 5860232\n1   chromedriver                        0x000000010d73b12a chromedriver + 5824810\n2   chromedriver                        0x000000010d212e20 chromedriver + 417312\n3   chromedriver                        0x000000010d264cab chromedriver + 752811\n4   chromedriver                        0x000000010d264ec1 chromedriver + 753345\n5   chromedriver                        0x000000010d258966 chromedriver + 702822\n6   chromedriver                        0x000000010d28ad1d chromedriver + 908573\n7   chromedriver                        0x000000010d258858 chromedriver + 702552\n8   chromedriver                        0x000000010d28aeae chromedriver + 908974\n9   chromedriver                        0x000000010d2b2169 chromedriver + 1069417\n10  chromedriver                        0x000000010d28aac3 chromedriver + 907971\n11  chromedriver                        0x000000010d257107 chromedriver + 696583\n12  chromedriver                        0x000000010d257d71 chromedriver + 699761\n13  chromedriver                        0x000000010d701ca0 chromedriver + 5590176\n14  chromedriver                        0x000000010d705cf9 chromedriver + 5606649\n15  chromedriver                        0x000000010d6dd0b6 chromedriver + 5439670\n16  chromedriver                        0x000000010d70666f chromedriver + 5609071\n17  chromedriver                        0x000000010d6cbe64 chromedriver + 5369444\n18  chromedriver                        0x000000010d728688 chromedriver + 5748360\n19  chromedriver                        0x000000010d728850 chromedriver + 5748816\n20  chromedriver                        0x000000010d73acc1 chromedriver + 5823681\n21  libsystem_pthread.dylib             0x00007ff81a04fdf1 _pthread_start + 99\n22  libsystem_pthread.dylib             0x00007ff81a04b857 thread_start + 15\n",
     "output_type": "error",
     "traceback": [
      "\u001b[0;31m---------------------------------------------------------------------------\u001b[0m",
      "\u001b[0;31mNoSuchElementException\u001b[0m                    Traceback (most recent call last)",
      "Cell \u001b[0;32mIn[13], line 19\u001b[0m\n\u001b[1;32m     15\u001b[0m title \u001b[38;5;241m=\u001b[39m driver\u001b[38;5;241m.\u001b[39mfind_elements(By\u001b[38;5;241m.\u001b[39mXPATH, \u001b[38;5;124m\"\u001b[39m\u001b[38;5;124m//div[@class = \u001b[39m\u001b[38;5;124m'\u001b[39m\u001b[38;5;124mw2anchor infoTit\u001b[39m\u001b[38;5;124m'\u001b[39m\u001b[38;5;124m]\u001b[39m\u001b[38;5;124m\"\u001b[39m)\n\u001b[1;32m     17\u001b[0m \u001b[38;5;28;01mfor\u001b[39;00m i, titles \u001b[38;5;129;01min\u001b[39;00m \u001b[38;5;28menumerate\u001b[39m(title[:\u001b[38;5;241m10\u001b[39m], start\u001b[38;5;241m=\u001b[39m\u001b[38;5;241m1\u001b[39m) :\n\u001b[0;32m---> 19\u001b[0m     a \u001b[38;5;241m=\u001b[39m titles\u001b[38;5;241m.\u001b[39mfind_element(By\u001b[38;5;241m.\u001b[39mXPATH, \u001b[38;5;124m\"\u001b[39m\u001b[38;5;124m//a[title]\u001b[39m\u001b[38;5;124m\"\u001b[39m)\n\u001b[1;32m     20\u001b[0m     \u001b[38;5;28mprint\u001b[39m(a\u001b[38;5;241m.\u001b[39mtext)\n",
      "File \u001b[0;32m/opt/anaconda3/lib/python3.13/site-packages/selenium/webdriver/remote/webelement.py:602\u001b[0m, in \u001b[0;36mWebElement.find_element\u001b[0;34m(self, by, value)\u001b[0m\n\u001b[1;32m    576\u001b[0m \u001b[38;5;250m\u001b[39m\u001b[38;5;124;03m\"\"\"Find an element given a By strategy and locator.\u001b[39;00m\n\u001b[1;32m    577\u001b[0m \n\u001b[1;32m    578\u001b[0m \u001b[38;5;124;03mParameters:\u001b[39;00m\n\u001b[0;32m   (...)\u001b[0m\n\u001b[1;32m    599\u001b[0m \u001b[38;5;124;03m    The first matching `WebElement` found on the page.\u001b[39;00m\n\u001b[1;32m    600\u001b[0m \u001b[38;5;124;03m\"\"\"\u001b[39;00m\n\u001b[1;32m    601\u001b[0m by, value \u001b[38;5;241m=\u001b[39m \u001b[38;5;28mself\u001b[39m\u001b[38;5;241m.\u001b[39m_parent\u001b[38;5;241m.\u001b[39mlocator_converter\u001b[38;5;241m.\u001b[39mconvert(by, value)\n\u001b[0;32m--> 602\u001b[0m \u001b[38;5;28;01mreturn\u001b[39;00m \u001b[38;5;28mself\u001b[39m\u001b[38;5;241m.\u001b[39m_execute(Command\u001b[38;5;241m.\u001b[39mFIND_CHILD_ELEMENT, {\u001b[38;5;124m\"\u001b[39m\u001b[38;5;124musing\u001b[39m\u001b[38;5;124m\"\u001b[39m: by, \u001b[38;5;124m\"\u001b[39m\u001b[38;5;124mvalue\u001b[39m\u001b[38;5;124m\"\u001b[39m: value})[\u001b[38;5;124m\"\u001b[39m\u001b[38;5;124mvalue\u001b[39m\u001b[38;5;124m\"\u001b[39m]\n",
      "File \u001b[0;32m/opt/anaconda3/lib/python3.13/site-packages/selenium/webdriver/remote/webelement.py:573\u001b[0m, in \u001b[0;36mWebElement._execute\u001b[0;34m(self, command, params)\u001b[0m\n\u001b[1;32m    571\u001b[0m     params \u001b[38;5;241m=\u001b[39m {}\n\u001b[1;32m    572\u001b[0m params[\u001b[38;5;124m\"\u001b[39m\u001b[38;5;124mid\u001b[39m\u001b[38;5;124m\"\u001b[39m] \u001b[38;5;241m=\u001b[39m \u001b[38;5;28mself\u001b[39m\u001b[38;5;241m.\u001b[39m_id\n\u001b[0;32m--> 573\u001b[0m \u001b[38;5;28;01mreturn\u001b[39;00m \u001b[38;5;28mself\u001b[39m\u001b[38;5;241m.\u001b[39m_parent\u001b[38;5;241m.\u001b[39mexecute(command, params)\n",
      "File \u001b[0;32m/opt/anaconda3/lib/python3.13/site-packages/selenium/webdriver/remote/webdriver.py:454\u001b[0m, in \u001b[0;36mWebDriver.execute\u001b[0;34m(self, driver_command, params)\u001b[0m\n\u001b[1;32m    451\u001b[0m response \u001b[38;5;241m=\u001b[39m cast(RemoteConnection, \u001b[38;5;28mself\u001b[39m\u001b[38;5;241m.\u001b[39mcommand_executor)\u001b[38;5;241m.\u001b[39mexecute(driver_command, params)\n\u001b[1;32m    453\u001b[0m \u001b[38;5;28;01mif\u001b[39;00m response:\n\u001b[0;32m--> 454\u001b[0m     \u001b[38;5;28mself\u001b[39m\u001b[38;5;241m.\u001b[39merror_handler\u001b[38;5;241m.\u001b[39mcheck_response(response)\n\u001b[1;32m    455\u001b[0m     response[\u001b[38;5;124m\"\u001b[39m\u001b[38;5;124mvalue\u001b[39m\u001b[38;5;124m\"\u001b[39m] \u001b[38;5;241m=\u001b[39m \u001b[38;5;28mself\u001b[39m\u001b[38;5;241m.\u001b[39m_unwrap_value(response\u001b[38;5;241m.\u001b[39mget(\u001b[38;5;124m\"\u001b[39m\u001b[38;5;124mvalue\u001b[39m\u001b[38;5;124m\"\u001b[39m, \u001b[38;5;28;01mNone\u001b[39;00m))\n\u001b[1;32m    456\u001b[0m     \u001b[38;5;28;01mreturn\u001b[39;00m response\n",
      "File \u001b[0;32m/opt/anaconda3/lib/python3.13/site-packages/selenium/webdriver/remote/errorhandler.py:232\u001b[0m, in \u001b[0;36mErrorHandler.check_response\u001b[0;34m(self, response)\u001b[0m\n\u001b[1;32m    230\u001b[0m         alert_text \u001b[38;5;241m=\u001b[39m value[\u001b[38;5;124m\"\u001b[39m\u001b[38;5;124malert\u001b[39m\u001b[38;5;124m\"\u001b[39m]\u001b[38;5;241m.\u001b[39mget(\u001b[38;5;124m\"\u001b[39m\u001b[38;5;124mtext\u001b[39m\u001b[38;5;124m\"\u001b[39m)\n\u001b[1;32m    231\u001b[0m     \u001b[38;5;28;01mraise\u001b[39;00m exception_class(message, screen, stacktrace, alert_text)  \u001b[38;5;66;03m# type: ignore[call-arg]  # mypy is not smart enough here\u001b[39;00m\n\u001b[0;32m--> 232\u001b[0m \u001b[38;5;28;01mraise\u001b[39;00m exception_class(message, screen, stacktrace)\n",
      "\u001b[0;31mNoSuchElementException\u001b[0m: Message: no such element: Unable to locate element: {\"method\":\"xpath\",\"selector\":\"//a[title]\"}\n  (Session info: chrome=138.0.7204.184); For documentation on this error, please visit: https://www.selenium.dev/documentation/webdriver/troubleshooting/errors#nosuchelementexception\nStacktrace:\n0   chromedriver                        0x000000010d743b88 chromedriver + 5860232\n1   chromedriver                        0x000000010d73b12a chromedriver + 5824810\n2   chromedriver                        0x000000010d212e20 chromedriver + 417312\n3   chromedriver                        0x000000010d264cab chromedriver + 752811\n4   chromedriver                        0x000000010d264ec1 chromedriver + 753345\n5   chromedriver                        0x000000010d258966 chromedriver + 702822\n6   chromedriver                        0x000000010d28ad1d chromedriver + 908573\n7   chromedriver                        0x000000010d258858 chromedriver + 702552\n8   chromedriver                        0x000000010d28aeae chromedriver + 908974\n9   chromedriver                        0x000000010d2b2169 chromedriver + 1069417\n10  chromedriver                        0x000000010d28aac3 chromedriver + 907971\n11  chromedriver                        0x000000010d257107 chromedriver + 696583\n12  chromedriver                        0x000000010d257d71 chromedriver + 699761\n13  chromedriver                        0x000000010d701ca0 chromedriver + 5590176\n14  chromedriver                        0x000000010d705cf9 chromedriver + 5606649\n15  chromedriver                        0x000000010d6dd0b6 chromedriver + 5439670\n16  chromedriver                        0x000000010d70666f chromedriver + 5609071\n17  chromedriver                        0x000000010d6cbe64 chromedriver + 5369444\n18  chromedriver                        0x000000010d728688 chromedriver + 5748360\n19  chromedriver                        0x000000010d728850 chromedriver + 5748816\n20  chromedriver                        0x000000010d73acc1 chromedriver + 5823681\n21  libsystem_pthread.dylib             0x00007ff81a04fdf1 _pthread_start + 99\n22  libsystem_pthread.dylib             0x00007ff81a04b857 thread_start + 15\n"
     ]
    }
   ],
   "source": [
    "from selenium import webdriver\n",
    "from selenium.webdriver.chrome.service import Service \n",
    "from webdriver_manager.chrome import ChromeDriverManager\n",
    "from selenium.webdriver.common.by import By\n",
    "import time \n",
    "\n",
    "service = Service(ChromeDriverManager().install())\n",
    "\n",
    "driver=webdriver.Chrome(service=service)\n",
    "\n",
    "url = \"https://portal.scourt.go.kr/pgp/index.on?m=PGP1011M01&l=N&c=900\"\n",
    "driver.get(url)\n",
    "time.sleep(3)\n",
    "\n",
    "title = driver.find_elements(By.XPATH, \"//div[@class = 'w2anchor infoTit']\")\n",
    "\n",
    "for i, titles in enumerate(title[:10], start=1) :\n",
    "\n",
    "    a = titles.find_element(By.XPATH, \"//a[title]\")\n",
    "    print(a.text)"
   ]
  }
 ],
 "metadata": {
  "kernelspec": {
   "display_name": "Python [conda env:base] *",
   "language": "python",
   "name": "conda-base-py"
  },
  "language_info": {
   "codemirror_mode": {
    "name": "ipython",
    "version": 3
   },
   "file_extension": ".py",
   "mimetype": "text/x-python",
   "name": "python",
   "nbconvert_exporter": "python",
   "pygments_lexer": "ipython3",
   "version": "3.13.5"
  }
 },
 "nbformat": 4,
 "nbformat_minor": 5
}
