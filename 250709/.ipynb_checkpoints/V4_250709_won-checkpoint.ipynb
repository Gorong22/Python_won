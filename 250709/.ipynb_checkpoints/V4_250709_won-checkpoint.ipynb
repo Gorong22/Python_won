{
 "cells": [
  {
   "cell_type": "code",
   "execution_count": 6,
   "id": "8160b7ed-561e-4e04-81ac-649b8daaeac2",
   "metadata": {},
   "outputs": [
    {
     "name": "stdout",
     "output_type": "stream",
     "text": [
      "<h1 id=\"title\">[1]크롤링이란?</h1>\n",
      "[1]크롤링이란?\n",
      "[1]크롤링이란?\n"
     ]
    }
   ],
   "source": [
    "from bs4 import BeautifulSoup\n",
    "\n",
    "html = \"<html>\\\n",
    "            <body>\\\n",
    "                <h1 id='title'>[1]크롤링이란?</h1>\\\n",
    "                <p class='cssstyle'>웹페이지에서 필요한 데이터를 추출하는 것</p>\\\n",
    "                <p id='body' align='center'>파이썬을 중심으로 다양한 웹크롤링 기술 발달</p>\\\n",
    "            </body>\\\n",
    "        </html>\"\n",
    "\n",
    "soup = BeautifulSoup(html, \"html.parser\")\n",
    "data = soup.find(\"h1\")\n",
    "print(data)\n",
    "print(data.string)\n",
    "print(data.get_text())"
   ]
  },
  {
   "cell_type": "code",
   "execution_count": 9,
   "id": "a35c211e-50b9-4b35-adf8-ec3c0b76b3b4",
   "metadata": {},
   "outputs": [
    {
     "name": "stdout",
     "output_type": "stream",
     "text": [
      "<body> <h1 id=\"title\">[1]크롤링이란?</h1> <p class=\"cssstyle\">웹페이지에서 필요한 데이터를 추출하는 것</p> <p align=\"center\" id=\"body\">파이썬을 중심으로 다양한 웹크롤링 기술 발달</p> </body>\n",
      " [1]크롤링이란? 웹페이지에서 필요한 데이터를 추출하는 것 파이썬을 중심으로 다양한 웹크롤링 기술 발달 \n"
     ]
    }
   ],
   "source": [
    "from bs4 import BeautifulSoup\n",
    "\n",
    "html = \"<html>\\\n",
    "            <body>\\\n",
    "                <h1 id='title'>[1]크롤링이란?</h1>\\\n",
    "                <p class='cssstyle'>웹페이지에서 필요한 데이터를 추출하는 것</p>\\\n",
    "                <p id='body' align='center'>파이썬을 중심으로 다양한 웹크롤링 기술 발달</p>\\\n",
    "            </body>\\\n",
    "        </html>\"\n",
    "\n",
    "soup = BeautifulSoup(html, \"html.parser\")\n",
    "data = soup.find(\"body\")\n",
    "print(data)\n",
    "#print(data.string)\n",
    "print(data.get_text())"
   ]
  },
  {
   "cell_type": "code",
   "execution_count": 14,
   "id": "3cf61ff6-1669-48c9-86b1-dc0389c0e4f0",
   "metadata": {},
   "outputs": [
    {
     "name": "stdout",
     "output_type": "stream",
     "text": [
      "웹페이지에서 필요한 데이터를 추출하는 것\n",
      "파이썬을 중심으로 다양한 웹크롤링 기술 발달\n"
     ]
    }
   ],
   "source": [
    "from bs4 import BeautifulSoup\n",
    "\n",
    "html = \"<html>\\\n",
    "            <body>\\\n",
    "                <h1 id='title'>[1]크롤링이란?</h1>\\\n",
    "                <p class='cssstyle'>웹페이지에서 필요한 데이터를 추출하는 것</p>\\\n",
    "                <p id='body' align='center'>파이썬을 중심으로 다양한 웹크롤링 기술 발달</p>\\\n",
    "            </body>\\\n",
    "        </html>\"\n",
    "\n",
    "soup = BeautifulSoup(html, \"html.parser\")\n",
    "data = soup.find_all(\"p\")\n",
    "\n",
    "for item in data :\n",
    "    print(item.string)\n",
    "\n",
    "#print(data.string)"
   ]
  },
  {
   "cell_type": "code",
   "execution_count": 19,
   "id": "6a8bb24b-b98b-4bc9-a35b-8767cc95a9b7",
   "metadata": {},
   "outputs": [
    {
     "name": "stdout",
     "output_type": "stream",
     "text": [
      "파이썬을 중심으로 다양한 웹크롤링 기술 발달\n"
     ]
    }
   ],
   "source": [
    "from bs4 import BeautifulSoup\n",
    "\n",
    "html = \"<html>\\\n",
    "            <body>\\\n",
    "                <h1 id='title'>[1]크롤링이란?</h1>\\\n",
    "                <p class='cssstyle'>웹페이지에서 필요한 데이터를 추출하는 것</p>\\\n",
    "                <p id='body' align='center'>파이썬을 중심으로 다양한 웹크롤링 기술 발달</p>\\\n",
    "            </body>\\\n",
    "        </html>\"\n",
    "\n",
    "soup = BeautifulSoup(html, \"html.parser\")\n",
    "#data = soup.find(\"p\", attrs={\"id\":\"body\"})\n",
    "data = soup.find(\"p\", attrs={\"align\":\"center\"})\n",
    "print(data.string)"
   ]
  },
  {
   "cell_type": "code",
   "execution_count": 23,
   "id": "090ca480-323f-4abc-aa07-57fbf0a92818",
   "metadata": {},
   "outputs": [
    {
     "name": "stdout",
     "output_type": "stream",
     "text": [
      "파이썬을 중심으로 다양한 웹크롤링 기술 발달 - 2\n"
     ]
    }
   ],
   "source": [
    "from bs4 import BeautifulSoup\n",
    "\n",
    "html = \"<html>\\\n",
    "            <body>\\\n",
    "                <h1 id='title'>[1]크롤링이란?</h1>\\\n",
    "                <p class='cssstyle'>웹페이지에서 필요한 데이터를 추출하는 것</p>\\\n",
    "                <p id='body01' align='center'>파이썬을 중심으로 다양한 웹크롤링 기술 발달 - 1</p>\\\n",
    "                <p id='body02' align='center'>파이썬을 중심으로 다양한 웹크롤링 기술 발달 - 2</p>\\\n",
    "            </body>\\\n",
    "        </html>\"\n",
    "\n",
    "soup = BeautifulSoup(html, \"html.parser\")\n",
    "#data = soup.find(\"p\", attrs={\"id\":\"body\"})\n",
    "data = soup.find(\"p\", attrs={\"id\":\"body02\", \"align\":\"center\"})\n",
    "print(data.string)"
   ]
  },
  {
   "cell_type": "code",
   "execution_count": 30,
   "id": "082912c7-c9d6-4dc5-b880-4070f4bd0d11",
   "metadata": {},
   "outputs": [
    {
     "name": "stdout",
     "output_type": "stream",
     "text": [
      "파이썬을 중심으로 다양한 웹크롤링 기술 발달 - 2\n"
     ]
    }
   ],
   "source": [
    "from bs4 import BeautifulSoup\n",
    "\n",
    "html = \"<html>\\\n",
    "            <body>\\\n",
    "                <h1 id='title'>[1]크롤링이란?</h1>\\\n",
    "                <p class='cssstyle'>웹페이지에서 필요한 데이터를 추출하는 것</p>\\\n",
    "                <p id='body01' align='center'>파이썬을 중심으로 다양한 웹크롤링 기술 발달 - 1</p>\\\n",
    "                <p id='body02' align='center'>파이썬을 중심으로 다양한 웹크롤링 기술 발달 - 2</p>\\\n",
    "            </body>\\\n",
    "        </html>\"\n",
    "\n",
    "soup = BeautifulSoup(html, \"html.parser\")\n",
    "#data = soup.find(\"p\", attrs={\"id\":\"body\"})\n",
    "#data = soup.find(\"p\", attrs={\"id\":\"body02\", \"align\":\"center\"})\n",
    "data = soup.find(\"p\", attrs={\"id\":\"body02\"})\n",
    "print(data.string)"
   ]
  },
  {
   "cell_type": "code",
   "execution_count": 29,
   "id": "9db017e2-544d-4252-bd2d-497cad1c0aec",
   "metadata": {},
   "outputs": [
    {
     "name": "stdout",
     "output_type": "stream",
     "text": [
      "웹페이지에서 필요한 데이터를 추출하는 것 - 2\n"
     ]
    }
   ],
   "source": [
    "from bs4 import BeautifulSoup\n",
    "\n",
    "html = \"<html>\\\n",
    "            <body>\\\n",
    "                <h1 id='title'>[1]크롤링이란?</h1>\\\n",
    "                <p class='cssstyle01'>웹페이지에서 필요한 데이터를 추출하는 것 - 1</p>\\\n",
    "                <p class='cssstyle02'>웹페이지에서 필요한 데이터를 추출하는 것 - 2</p>\\\n",
    "                <p id='body01' align='center'>파이썬을 중심으로 다양한 웹크롤링 기술 발달 - 1</p>\\\n",
    "                <p id='body02' align='center'>파이썬을 중심으로 다양한 웹크롤링 기술 발달 - 2</p>\\\n",
    "            </body>\\\n",
    "        </html>\"\n",
    "\n",
    "soup = BeautifulSoup(html, \"html.parser\")\n",
    "#data = soup.find(\"p\", attrs={\"id\":\"body\"})\n",
    "#data = soup.find(\"p\", attrs={\"id\":\"body02\", \"align\":\"center\"})\n",
    "#data = soup.find(\"p\", class_ = \"cssstyle02\")\n",
    "data = soup.find(\"p\", \"cssstyle02\")\n",
    "print(data.string)"
   ]
  },
  {
   "cell_type": "code",
   "execution_count": null,
   "id": "2bce378f-d2a7-49bf-9d92-01e31c8b772a",
   "metadata": {},
   "outputs": [],
   "source": []
  }
 ],
 "metadata": {
  "kernelspec": {
   "display_name": "Python [conda env:base] *",
   "language": "python",
   "name": "conda-base-py"
  },
  "language_info": {
   "codemirror_mode": {
    "name": "ipython",
    "version": 3
   },
   "file_extension": ".py",
   "mimetype": "text/x-python",
   "name": "python",
   "nbconvert_exporter": "python",
   "pygments_lexer": "ipython3",
   "version": "3.13.5"
  }
 },
 "nbformat": 4,
 "nbformat_minor": 5
}
