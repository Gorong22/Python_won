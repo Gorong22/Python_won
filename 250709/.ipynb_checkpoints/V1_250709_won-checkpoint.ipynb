{
 "cells": [
  {
   "cell_type": "markdown",
   "id": "ab90a58a-ba4e-4c44-a5e5-46b0499067a9",
   "metadata": {},
   "source": [
    "#절차지향 언어가 문제를 해결해가는 과정\n",
    "\n",
    "= ex) 냉장고에 코끼리를 넣는다\n",
    "\n",
    "절차지향의 해결방법\n",
    "\n",
    "1.냉장고 문을 연다 // open(\"냉장고\") \n",
    "2.코끼리를 냉장고에 넣는다 // insert 코끼리 into 냉장고\n",
    "3.냉장고 문을 닫는다 // Close 냉장고\n",
    "\n",
    "객체지향의 해결방법 \n",
    "ex) : 냉장고에 코끼리를 넣는다\n",
    "1. 코끼리라는 동물의 정보를 수집해서 해당 동물에 대한 설계도(*문을 열고, 안으로 들어갈 수 있는 기능이 사전에 정의 되어있음))를 만든다.\n",
    "2. 이전 단계에서 만든 코끼리 설계도를 기반으로 코끼리1 라는 객체를 하나 만든다\n",
    "3. 냉장고라는 사물의 정보를 수집해서 해당 사물에 대한 설계도(*코끼리가 냉장고안에 들어오면 문이 자동으로 닫혀 지도록 하는 기능 사전에 있음)를 만든다\n",
    "4. 이전 단계에서 만든 냉장고 설계도 기반으로 냉장고1 이라는 객체를 하나 만든다\n",
    "5. 코끼리1 이라는 객체안에 \"내장\"되어있는 기능을 호출해서 냉장고1 이라는 객체의 문을 열게 한다\n",
    "6. 코끼리1 이라는 객체안에 \"내장\"되어있는 기능을 호출해서 냉장고1 이라는 객체안으로 들어가게 한다.\n",
    "7. 냉장고1 이라는 객체안에 \"내장\"되어있는 기능을 호출해서 냉장고1 이라는 객체의 문을 닫게 한다."
   ]
  },
  {
   "cell_type": "markdown",
   "id": "b7cbe30c-80c6-4534-a5a4-08b7d3baa743",
   "metadata": {},
   "source": [
    "객체지향 프로그래밍 언어 핵심 요소 \n",
    "1. 어떤 사물 혹은 동물을 나타낼 수 있는 설계도를 객체지향언어에서 Class 라고 부름\n",
    "2. "
   ]
  },
  {
   "cell_type": "code",
   "execution_count": 3,
   "id": "61ee4311-df0d-4559-a00a-2fe15901d9b0",
   "metadata": {},
   "outputs": [
    {
     "name": "stdout",
     "output_type": "stream",
     "text": [
      "Fun Coding\n"
     ]
    }
   ],
   "source": [
    "#함수선언문 \n",
    "def print_string(data) :\n",
    "    print(data)\n",
    "#함수호출\n",
    "print_string(\"Fun Coding\")"
   ]
  },
  {
   "cell_type": "code",
   "execution_count": 5,
   "id": "4fa639f0-cc15-4c41-88af-a6b1e4495cf7",
   "metadata": {},
   "outputs": [
    {
     "name": "stdout",
     "output_type": "stream",
     "text": [
      "<class 'str'>\n"
     ]
    }
   ],
   "source": [
    "string = \"Fun Coding\"\n",
    "string.split()\n",
    "print(type(string))"
   ]
  },
  {
   "cell_type": "code",
   "execution_count": 20,
   "id": "f2ff016b-8414-4ccb-a19b-48bbd8f4a4fd",
   "metadata": {},
   "outputs": [],
   "source": [
    "class Student :\n",
    "    def __init__(self, name, grade) :\n",
    "        self.name = name\n",
    "        self.grade = grade\n",
    "\n",
    "    def study(self) :\n",
    "        print(f\"{self.name}가 공부를 열심히 합니다.\")\n",
    "\n",
    "    def take_exam(self) :\n",
    "        print(f\"{self.name}가 시험을 봅니다.\")"
   ]
  },
  {
   "cell_type": "code",
   "execution_count": 21,
   "id": "71da5a1d-53d0-4ba1-8a50-34f1e9e8f2c6",
   "metadata": {},
   "outputs": [
    {
     "name": "stdout",
     "output_type": "stream",
     "text": [
      "David 3\n",
      "David가 공부를 열심히 합니다.\n"
     ]
    }
   ],
   "source": [
    "Student = Student(\"David\", 3)\n",
    "print(Student.name, Student.grade)\n",
    "Student.study()"
   ]
  }
 ],
 "metadata": {
  "kernelspec": {
   "display_name": "Python [conda env:base] *",
   "language": "python",
   "name": "conda-base-py"
  },
  "language_info": {
   "codemirror_mode": {
    "name": "ipython",
    "version": 3
   },
   "file_extension": ".py",
   "mimetype": "text/x-python",
   "name": "python",
   "nbconvert_exporter": "python",
   "pygments_lexer": "ipython3",
   "version": "3.13.5"
  }
 },
 "nbformat": 4,
 "nbformat_minor": 5
}
