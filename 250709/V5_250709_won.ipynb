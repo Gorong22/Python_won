{
 "cells": [
  {
   "cell_type": "code",
   "execution_count": 12,
   "id": "1aaf42c4-088c-4e0e-aedd-8faf891eba6a",
   "metadata": {},
   "outputs": [
    {
     "name": "stdout",
     "output_type": "stream",
     "text": [
      "잔금대출에도 DTI 규제 적용 검토\n"
     ]
    }
   ],
   "source": [
    "import requests\n",
    "from bs4 import BeautifulSoup\n",
    "\n",
    "res = requests.get(\"https://v.daum.net/v/20170615203441266\")\n",
    "soup = BeautifulSoup(res.text, \"html.parser\")\n",
    "data = soup.find(class_ = \"tit_view\")\n",
    "print(data.string)"
   ]
  },
  {
   "cell_type": "code",
   "execution_count": 24,
   "id": "aa402248-2f4e-41f1-9b06-00f6eff14ee9",
   "metadata": {},
   "outputs": [
    {
     "ename": "AttributeError",
     "evalue": "'NoneType' object has no attribute 'string'",
     "output_type": "error",
     "traceback": [
      "\u001b[1;31m---------------------------------------------------------------------------\u001b[0m",
      "\u001b[1;31mAttributeError\u001b[0m                            Traceback (most recent call last)",
      "Cell \u001b[1;32mIn[24], line 7\u001b[0m\n\u001b[0;32m      5\u001b[0m soup \u001b[38;5;241m=\u001b[39m BeautifulSoup(res\u001b[38;5;241m.\u001b[39mcontent, \u001b[38;5;124m\"\u001b[39m\u001b[38;5;124mhtml.parser\u001b[39m\u001b[38;5;124m\"\u001b[39m)\n\u001b[0;32m      6\u001b[0m \u001b[38;5;66;03m#mydata = soup.find(\"h3\", attrs={\"tit_view01\"})\u001b[39;00m\n\u001b[1;32m----> 7\u001b[0m \u001b[38;5;28mprint\u001b[39m(mydata\u001b[38;5;241m.\u001b[39mstring)\n",
      "\u001b[1;31mAttributeError\u001b[0m: 'NoneType' object has no attribute 'string'"
     ]
    }
   ],
   "source": [
    "import requests\n",
    "from bs4 import BeautifulSoup\n",
    "\n",
    "res = requests.get(\"https://v.daum.net/v/20170615203441266\")\n",
    "soup = BeautifulSoup(res.content, \"html.parser\")\n",
    "#mydata = soup.find(\"h3\", attrs={\"tit_view01\"})\n",
    "print(mydata.string)"
   ]
  },
  {
   "cell_type": "code",
   "execution_count": 26,
   "id": "5ae72bf6-19bd-41a9-9fb1-0e759d5f7c3e",
   "metadata": {},
   "outputs": [
    {
     "name": "stdout",
     "output_type": "stream",
     "text": [
      "2017. 6. 15. 20:34\n"
     ]
    }
   ],
   "source": [
    "import requests\n",
    "from bs4 import BeautifulSoup\n",
    "\n",
    "res = requests.get(\"https://v.daum.net/v/20170615203441266\")\n",
    "soup = BeautifulSoup(res.content, \"html.parser\")\n",
    "#mydata = soup.find(\"h3\", attrs={\"tit_view01\"})\n",
    "mydata = soup.find(\"span\", attrs={\"num_date\"})\n",
    "print(mydata.string)"
   ]
  },
  {
   "cell_type": "code",
   "execution_count": 34,
   "id": "5aa44eee-f578-4efa-8937-efee77e774d6",
   "metadata": {},
   "outputs": [
    {
     "name": "stdout",
     "output_type": "stream",
     "text": [
      "2017. 6. 15. 20:34\n"
     ]
    }
   ],
   "source": [
    "#리스트로 찾는 방법\n",
    "import requests\n",
    "from bs4 import BeautifulSoup\n",
    "\n",
    "res = requests.get(\"https://v.daum.net/v/20170615203441266\")\n",
    "soup = BeautifulSoup(res.content, \"html.parser\")\n",
    "\n",
    "mydata = soup.find_all(\"span\", class_=\"txt_info\")\n",
    "print(mydata[1].get_text())"
   ]
  },
  {
   "cell_type": "code",
   "execution_count": null,
   "id": "081cd2ef-3dc3-4c59-9f8f-86dc59db340e",
   "metadata": {},
   "outputs": [],
   "source": [
    "import requests\n",
    "from bs4 import BeautifulSoup\n",
    "\n",
    "res = requests.get(\"https://v.daum.net/v/20170615203441266\")\n",
    "soup = BeautifulSoup(res.content, \"html.parser\")\n",
    "\n",
    "mydata"
   ]
  },
  {
   "cell_type": "code",
   "execution_count": 29,
   "id": "b723fe09-28c8-41bf-b5b2-725f59844698",
   "metadata": {},
   "outputs": [
    {
     "name": "stdout",
     "output_type": "stream",
     "text": [
      "정부라는 단어는 총3 나왔습니다\n"
     ]
    }
   ],
   "source": [
    "import requests\n",
    "from bs4 import BeautifulSoup\n",
    "\n",
    "count = 0\n",
    "\n",
    "res = requests.get(\"https://v.daum.net/v/20170615203441266\")\n",
    "soup = BeautifulSoup(res.content, \"html.parser\")\n",
    "myword = soup.find(\"p\", attrs={\"dmcf-pid\" : \"naZLBbSgoZ\"})\n",
    "if myword:\n",
    "    text = myword.get_text()\n",
    "    count = text.count(\"정부\")\n",
    "\n",
    "print(f\"정부라는 단어는 총{count} 나왔습니다\")"
   ]
  },
  {
   "cell_type": "code",
   "execution_count": 51,
   "id": "afeab6aa-429f-461e-8db6-01bf42b2f873",
   "metadata": {},
   "outputs": [
    {
     "name": "stdout",
     "output_type": "stream",
     "text": [
      "\n",
      "(왕초보) - 클래스 소개\n",
      "\n",
      "\n",
      "(왕초보) - 블로그 개발 필요한 준비물 준비하기\n",
      "\n",
      "\n",
      "(왕초보) - Github pages 설정해서 블로그 첫 페이지 만들어보기\n",
      "\n",
      "\n",
      "(왕초보) - 초간단 페이지 만들어보기\n",
      "\n",
      "\n",
      "(왕초보) - 이쁘게 테마 적용해보기\n",
      "\n",
      "\n",
      "(왕초보) - 마크다운 기초 이해하고, 실제 나만의 블로그 페이지\n",
      "          만들기\n",
      "\n",
      "\n",
      "(왕초보) - 다양한 마크다운 기법 익혀보며, 나만의 블로그 페이지\n",
      "          꾸며보기\n",
      "\n",
      "\n",
      "(초급) - 강사가 실제 사용하는 자동 프로그램 소개 [2]\n",
      "\n",
      "\n",
      "(초급) - 필요한 프로그램 설치 시연 [5]\n",
      "\n",
      "\n",
      "(초급) - 데이터를 엑셀 파일로 만들기 [9]\n",
      "\n",
      "\n",
      "(초급) -     엑셀 파일 이쁘게! 이쁘게! [8]\n",
      "\n",
      "\n",
      "(초급) -     나대신 주기적으로 파이썬 프로그램\n",
      "          실행하기 [7]\n",
      "\n",
      "\n",
      "(초급) - 파이썬으로 슬랙(slack) 메신저에 글쓰기 [40]\n",
      "\n",
      "\n",
      "(초급) - 웹사이트 변경사항 주기적으로 체크해서, 메신저로 알람주기\n",
      "          [12]\n",
      "\n",
      "\n",
      "(초급) - 네이버 API 사용해서, 블로그에 글쓰기 [42]\n",
      "\n",
      "\n",
      "(중급) - 자동으로 쿠팡파트너스 API 로 가져온 상품 정보, 네이버\n",
      "          블로그/트위터에 홍보하기 [412]\n",
      "\n"
     ]
    }
   ],
   "source": [
    "import requests\n",
    "from bs4 import BeautifulSoup\n",
    "\n",
    "res = requests.get(\"https://crawlingtest.netlify.app/\")\n",
    "soup = BeautifulSoup(res.content, \"html.parser\")\n",
    "mega = soup.find_all(\"li\", class_=\"course\")\n",
    "\n",
    "for item in mega :\n",
    "    \n",
    "    print(item.get_text())"
   ]
  },
  {
   "cell_type": "code",
   "execution_count": 55,
   "id": "f67e0e8d-2205-4026-bdf8-4cc17538867b",
   "metadata": {},
   "outputs": [],
   "source": [
    "class student :\n",
    "    def __init__(self, name, grade):\n",
    "        self.name = name\n",
    "        self.grade = grade\n",
    "\n",
    "    def introduce(self) :\n",
    "        print(f\"저는 {self.grade}학년 {self.name}입니다\")"
   ]
  },
  {
   "cell_type": "code",
   "execution_count": 57,
   "id": "6fb32dfd-d675-46a2-be54-afd9d6ec735d",
   "metadata": {},
   "outputs": [
    {
     "name": "stdout",
     "output_type": "stream",
     "text": [
      "저는 3학년 형원입니다\n"
     ]
    }
   ],
   "source": [
    "s1 = student(\"형원\", 3)\n",
    "s1.introduce()"
   ]
  },
  {
   "cell_type": "code",
   "execution_count": 58,
   "id": "8d96b2b3-7437-4c1b-865f-08fd4d82af05",
   "metadata": {},
   "outputs": [],
   "source": [
    "class dog:\n",
    "    def __init__(self, name, age) :\n",
    "        self.name = name \n",
    "        self.age = age\n",
    "\n",
    "    def bark(self) :\n",
    "        print(f\"{self.name}가 멍멍 짖습니다\")\n",
    "\n",
    "    def introduce(self):\n",
    "        print(f\"저는 {self.age}살 강아지 {self.name}입니다\")"
   ]
  },
  {
   "cell_type": "code",
   "execution_count": 59,
   "id": "6221897a-34a9-4061-966e-61b233475260",
   "metadata": {},
   "outputs": [
    {
     "name": "stdout",
     "output_type": "stream",
     "text": [
      "원실가 멍멍 짖습니다\n",
      "저는 5살 강아지 원실입니다\n"
     ]
    }
   ],
   "source": [
    "dog1 = dog(\"원실\", 5)\n",
    "dog1.bark()\n",
    "dog1.introduce()"
   ]
  },
  {
   "cell_type": "code",
   "execution_count": 60,
   "id": "60eb0d5a-e3db-448b-87b9-fc730897017d",
   "metadata": {},
   "outputs": [],
   "source": [
    "class car:\n",
    "    def __init__(self, brand, color) :\n",
    "        self.brand = brand\n",
    "        self.color = color\n",
    "\n",
    "    def drive(self) :\n",
    "        print(f\"{self.color}색 {self.brand} 자동차가 달립니다\")"
   ]
  },
  {
   "cell_type": "code",
   "execution_count": 62,
   "id": "88fd6b25-9e28-4255-b9e8-909f3ef24940",
   "metadata": {},
   "outputs": [
    {
     "name": "stdout",
     "output_type": "stream",
     "text": [
      "검정색 현대 자동차가 달립니다\n"
     ]
    }
   ],
   "source": [
    "c1 = car(\"현대\", \"검정\")\n",
    "c1.drive()"
   ]
  },
  {
   "cell_type": "code",
   "execution_count": 64,
   "id": "9d7adf5f-bd33-4ff3-9e5b-6c6e945ee751",
   "metadata": {},
   "outputs": [],
   "source": [
    "class product :\n",
    "    def __init__(self, name, price) :\n",
    "        self.name = name\n",
    "        self.price = price\n",
    "    def discount(self, percent) :\n",
    "        discount_price = self.price * (1 - percent / 100)\n",
    "        print(f\"{self.name}의 할인 가격은 {int(discount_price)}원 입니다\")"
   ]
  },
  {
   "cell_type": "code",
   "execution_count": 66,
   "id": "2ab1085b-a7b2-4374-96de-78b3f70d6172",
   "metadata": {},
   "outputs": [
    {
     "name": "stdout",
     "output_type": "stream",
     "text": [
      "무선마우스의 할인 가격은 200000원 입니다\n"
     ]
    }
   ],
   "source": [
    "item = product(\"무선마우스\", 250000)\n",
    "item.discount(20)"
   ]
  },
  {
   "cell_type": "code",
   "execution_count": 75,
   "id": "de25b8ff-363b-454f-a996-57b9e126b5b5",
   "metadata": {},
   "outputs": [],
   "source": [
    "class Roas :\n",
    "    def __init__(self, revenue, ad_cost):\n",
    "        self.revenue = revenue\n",
    "        self.ad_cost = ad_cost\n",
    "\n",
    "    def recent(self):\n",
    "        Roas_percent = self.revenue / self.ad_cost * 100\n",
    "        print(f\"Roas: {Roas_percent:.2f}%\")"
   ]
  },
  {
   "cell_type": "code",
   "execution_count": 77,
   "id": "0c80b9be-b891-43de-9ed7-2db61256b43a",
   "metadata": {},
   "outputs": [
    {
     "name": "stdout",
     "output_type": "stream",
     "text": [
      "Roas: 200.00%\n"
     ]
    }
   ],
   "source": [
    "ad1 = Roas(10000000, 5000000)\n",
    "ad1.recent()"
   ]
  },
  {
   "cell_type": "code",
   "execution_count": 83,
   "id": "95931b74-908d-4827-9cec-116e5b2c9e42",
   "metadata": {},
   "outputs": [],
   "source": [
    "class roi :\n",
    "    def __init__(self, revenue, ad_cost):\n",
    "        self.revenue = revenue\n",
    "        self.ad_cost = ad_cost\n",
    "\n",
    "    def Roi(self):\n",
    "        Roi_percent = (self.revenue - self.ad_cost) / self.ad_cost * 100\n",
    "        print(f\"Roi : {Roi_percent:.1f}%\")"
   ]
  },
  {
   "cell_type": "code",
   "execution_count": 84,
   "id": "4696bec4-f606-4e3f-82bd-6549b9d72f43",
   "metadata": {},
   "outputs": [
    {
     "name": "stdout",
     "output_type": "stream",
     "text": [
      "Roi : 100.0%\n"
     ]
    }
   ],
   "source": [
    "ad_roi = roi(10000000, 5000000)\n",
    "ad_roi.Roi()"
   ]
  },
  {
   "cell_type": "code",
   "execution_count": 91,
   "id": "ef721f8c-ac73-414f-b238-e82e93f55f00",
   "metadata": {},
   "outputs": [],
   "source": [
    "class book :\n",
    "    def __init__(self, title):\n",
    "        self.title = title\n",
    "\n",
    "    def book_title(self):\n",
    "        print(f\"{self.title}\")"
   ]
  },
  {
   "cell_type": "code",
   "execution_count": 93,
   "id": "b7f52429-5781-447e-8816-c83bf831c275",
   "metadata": {},
   "outputs": [
    {
     "name": "stdout",
     "output_type": "stream",
     "text": [
      "마케팅설계자\n"
     ]
    }
   ],
   "source": [
    "book1 = book(\"마케팅설계자\")\n",
    "book1.book_title()"
   ]
  },
  {
   "cell_type": "code",
   "execution_count": 2,
   "id": "7ed75c3f-2c8d-44c7-a592-7ea9a92e9fe4",
   "metadata": {},
   "outputs": [],
   "source": [
    "class book:\n",
    "    def __init__ (self, title, author, pages) :\n",
    "        self.title = title\n",
    "        self.author = author\n",
    "        self.pages = pages\n",
    "\n",
    "    def book_name(self) :\n",
    "        print(f\"당신이 고른 책이름은 {self.title} 이며 작가는{self.author}이고 페이지수는 {self.pages}입니당\")\n",
    "        "
   ]
  },
  {
   "cell_type": "code",
   "execution_count": 4,
   "id": "4b1dfc9e-3f9e-4f90-bfe6-e9079d0e2771",
   "metadata": {},
   "outputs": [
    {
     "name": "stdout",
     "output_type": "stream",
     "text": [
      "당신이 고른 책이름은 마케팅설계자 이며 작가는러셀브런슨이고 페이지수는 500입니당\n"
     ]
    }
   ],
   "source": [
    "book_1 = book(\"마케팅설계자\", \"러셀브런슨\", \"500\")\n",
    "book_1.book_name()"
   ]
  },
  {
   "cell_type": "code",
   "execution_count": 10,
   "id": "5f5b28d0-6315-4f1b-982e-aec6341ed71d",
   "metadata": {},
   "outputs": [
    {
     "name": "stdout",
     "output_type": "stream",
     "text": [
      "\n",
      "(왕초보) - 클래스 소개\n",
      "\n",
      "\n",
      "(왕초보) - 블로그 개발 필요한 준비물 준비하기\n",
      "\n",
      "\n",
      "(왕초보) - Github pages 설정해서 블로그 첫 페이지 만들어보기\n",
      "\n",
      "\n",
      "(왕초보) - 초간단 페이지 만들어보기\n",
      "\n",
      "\n",
      "(왕초보) - 이쁘게 테마 적용해보기\n",
      "\n",
      "\n",
      "(왕초보) - 마크다운 기초 이해하고, 실제 나만의 블로그 페이지\n",
      "          만들기\n",
      "\n",
      "\n",
      "(왕초보) - 다양한 마크다운 기법 익혀보며, 나만의 블로그 페이지\n",
      "          꾸며보기\n",
      "\n",
      "\n",
      "(초급) - 강사가 실제 사용하는 자동 프로그램 소개 [2]\n",
      "\n",
      "\n",
      "(초급) - 필요한 프로그램 설치 시연 [5]\n",
      "\n",
      "\n",
      "(초급) - 데이터를 엑셀 파일로 만들기 [9]\n",
      "\n",
      "\n",
      "(초급) -     엑셀 파일 이쁘게! 이쁘게! [8]\n",
      "\n",
      "\n",
      "(초급) -     나대신 주기적으로 파이썬 프로그램\n",
      "          실행하기 [7]\n",
      "\n",
      "\n",
      "(초급) - 파이썬으로 슬랙(slack) 메신저에 글쓰기 [40]\n",
      "\n",
      "\n",
      "(초급) - 웹사이트 변경사항 주기적으로 체크해서, 메신저로 알람주기\n",
      "          [12]\n",
      "\n",
      "\n",
      "(초급) - 네이버 API 사용해서, 블로그에 글쓰기 [42]\n",
      "\n",
      "\n",
      "(중급) - 자동으로 쿠팡파트너스 API 로 가져온 상품 정보, 네이버\n",
      "          블로그/트위터에 홍보하기 [412]\n",
      "\n"
     ]
    }
   ],
   "source": [
    "import requests\n",
    "from bs4 import BeautifulSoup\n",
    "\n",
    "res = requests.get(\"https://crawlingtest.netlify.app/\")\n",
    "soup = BeautifulSoup(res.content, \"html.parser\")\n",
    "\n",
    "titles = soup.find_all(\"li\", \"course\")\n",
    "for title in titles :\n",
    "    print(title.get_text())"
   ]
  },
  {
   "cell_type": "code",
   "execution_count": 30,
   "id": "4bef8624-4852-4721-a99f-a82377f0d4f5",
   "metadata": {},
   "outputs": [
    {
     "name": "stdout",
     "output_type": "stream",
     "text": [
      "\n",
      "\n",
      "(왕초보) - 클래스 소개\n",
      "\n",
      "\n",
      "(왕초보) - 블로그 개발 필요한 준비물 준비하기\n",
      "\n",
      "\n",
      "(왕초보) - Github pages 설정해서 블로그 첫 페이지 만들어보기\n",
      "\n",
      "\n",
      "(왕초보) - 초간단 페이지 만들어보기\n",
      "\n",
      "\n",
      "(왕초보) - 이쁘게 테마 적용해보기\n",
      "\n",
      "\n",
      "(왕초보) - 마크다운 기초 이해하고, 실제 나만의 블로그 페이지\n",
      "          만들기\n",
      "\n",
      "\n",
      "(왕초보) - 다양한 마크다운 기법 익혀보며, 나만의 블로그 페이지\n",
      "          꾸며보기\n",
      "\n",
      "\n"
     ]
    }
   ],
   "source": [
    "import requests\n",
    "from bs4 import BeautifulSoup\n",
    "\n",
    "res = requests.get(\"https://crawlingtest.netlify.app/\")\n",
    "soup = BeautifulSoup(res.content, \"html.parser\")\n",
    "\n",
    "titles = soup.find_all(\"ul\", attrs = {\"id\" : \"hobby_course_list\"})\n",
    "for title in titles :\n",
    "    print(title.get_text())\n"
   ]
  },
  {
   "cell_type": "code",
   "execution_count": 51,
   "id": "e665052f-61b3-4b04-aed3-9daf8cc455f0",
   "metadata": {},
   "outputs": [
    {
     "name": "stdout",
     "output_type": "stream",
     "text": [
      "\n",
      "\n",
      "\n",
      "(왕초보) - 클래스 소개\n",
      "\n",
      "\n",
      "\n",
      "\n",
      "(왕초보) - 블로그 개발 필요한 준비물 준비하기\n",
      "\n",
      "\n",
      "\n",
      "\n",
      "(왕초보) - Github pages 설정해서 블로그 첫 페이지 만들어보기\n",
      "\n",
      "\n",
      "\n",
      "\n",
      "(왕초보) - 초간단 페이지 만들어보기\n",
      "\n",
      "\n",
      "\n",
      "\n",
      "(왕초보) - 이쁘게 테마 적용해보기\n",
      "\n",
      "\n",
      "\n",
      "\n",
      "(왕초보) - 마크다운 기초 이해하고, 실제 나만의 블로그 페이지\n",
      "          만들기\n",
      "\n",
      "\n",
      "\n",
      "\n",
      "(왕초보) - 다양한 마크다운 기법 익혀보며, 나만의 블로그 페이지\n",
      "          꾸며보기\n",
      "\n",
      "\n",
      "\n"
     ]
    }
   ],
   "source": [
    "import requests\n",
    "from bs4 import BeautifulSoup\n",
    "\n",
    "res = requests.get(\"https://crawlingtest.netlify.app/\")\n",
    "soup = BeautifulSoup(res.content, \"html.parser\")\n",
    "\n",
    "titles = soup.find(\"ul\", attrs = {\"id\" : \"hobby_course_list\"})\n",
    "section = titles.find_all(\"li\", attrs = {\"class\" : \"course\"})\n",
    "\n",
    "for section in titles :\n",
    "    print(section.get_text())"
   ]
  },
  {
   "cell_type": "code",
   "execution_count": 110,
   "id": "c28d4e5a-2e07-42d4-a486-f2d209c9a358",
   "metadata": {},
   "outputs": [
    {
     "name": "stdout",
     "output_type": "stream",
     "text": [
      " 클래스 소개\n",
      "\n",
      " 블로그 개발 필요한 준비물 준비하기\n",
      "\n",
      " Github pages 설정해서 블로그 첫 페이지 만들어보기\n",
      "\n",
      " 초간단 페이지 만들어보기\n",
      "\n",
      " 이쁘게 테마 적용해보기\n",
      "\n",
      " 마크다운 기초 이해하고, 실제 나만의 블로그 페이지\n",
      "          만들기\n",
      "\n",
      " 다양한 마크다운 기법 익혀보며, 나만의 블로그 페이지\n",
      "          꾸며보기\n",
      "\n",
      " 강사가 실제 사용하는 자동 프로그램 소개 [2]\n",
      "\n",
      " 필요한 프로그램 설치 시연 [5]\n",
      "\n",
      " 데이터를 엑셀 파일로 만들기 [9]\n",
      "\n",
      "     엑셀 파일 이쁘게! 이쁘게! [8]\n",
      "\n",
      "     나대신 주기적으로 파이썬 프로그램\n",
      "          실행하기 [7]\n",
      "\n",
      " 파이썬으로 슬랙(slack) 메신저에 글쓰기 [40]\n",
      "\n",
      " 웹사이트 변경사항 주기적으로 체크해서, 메신저로 알람주기\n",
      "          [12]\n",
      "\n",
      " 네이버 API 사용해서, 블로그에 글쓰기 [42]\n",
      "\n",
      " 자동으로 쿠팡파트너스 API 로 가져온 상품 정보, 네이버\n",
      "          블로그/트위터에 홍보하기 [412]\n",
      "\n"
     ]
    }
   ],
   "source": [
    "import requests\n",
    "from bs4 import BeautifulSoup\n",
    "\n",
    "res = requests.get(\"https://crawlingtest.netlify.app/\")\n",
    "soup = BeautifulSoup(res.content, \"html.parser\")\n",
    "\n",
    "titles = soup.find_all(\"li\", \"course\")\n",
    "for title in titles :\n",
    "    word = title.get_text().split(\"-\")[1]\n",
    "    print(word)\n",
    "    "
   ]
  },
  {
   "cell_type": "code",
   "execution_count": 140,
   "id": "28a91199-ddc0-45fa-8d41-005c8b37ca39",
   "metadata": {},
   "outputs": [
    {
     "name": "stdout",
     "output_type": "stream",
     "text": [
      "1 클래스소개\n",
      "2 블로그개발필요한준비물준비하기\n",
      "3 Githubpages설정해서블로그첫페이지만들어보기\n",
      "4 초간단페이지만들어보기\n",
      "5 이쁘게테마적용해보기\n",
      "6 마크다운기초이해하고,실제나만의블로그페이지만들기\n",
      "7 다양한마크다운기법익혀보며,나만의블로그페이지꾸며보기\n",
      "8 강사가실제사용하는자동프로그램소개\n",
      "9 필요한프로그램설치시연\n",
      "10 데이터를엑셀파일로만들기\n",
      "11 엑셀파일이쁘게!이쁘게!\n",
      "12 나대신주기적으로파이썬프로그램실행하기\n",
      "13 파이썬으로슬랙(slack)메신저에글쓰기\n",
      "14 웹사이트변경사항주기적으로체크해서,메신저로알람주기\n",
      "15 네이버API사용해서,블로그에글쓰기\n",
      "16 자동으로쿠팡파트너스API로가져온상품정보,네이버블로그/트위터에홍보하기\n"
     ]
    }
   ],
   "source": [
    "import requests\n",
    "from bs4 import BeautifulSoup\n",
    "\n",
    "res = requests.get(\"https://crawlingtest.netlify.app/\")\n",
    "soup = BeautifulSoup(res.content, \"html.parser\")\n",
    "\n",
    "titles = soup.find_all(\"li\", \"course\")\n",
    "\n",
    "for index, title in enumerate(titles) :\n",
    "    print(index+1, title.get_text().split(\"-\")[1].replace(\"\\n\", \" \").replace(\" \", \"\").split(\"[\")[0].strip())"
   ]
  }
 ],
 "metadata": {
  "kernelspec": {
   "display_name": "Python [conda env:base] *",
   "language": "python",
   "name": "conda-base-py"
  },
  "language_info": {
   "codemirror_mode": {
    "name": "ipython",
    "version": 3
   },
   "file_extension": ".py",
   "mimetype": "text/x-python",
   "name": "python",
   "nbconvert_exporter": "python",
   "pygments_lexer": "ipython3",
   "version": "3.13.5"
  }
 },
 "nbformat": 4,
 "nbformat_minor": 5
}
