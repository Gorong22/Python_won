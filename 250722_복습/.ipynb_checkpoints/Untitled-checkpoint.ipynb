{
 "cells": [
  {
   "cell_type": "code",
   "execution_count": 1,
   "id": "4a7a2f7b-0773-4142-bbed-6b4dbb2721e6",
   "metadata": {},
   "outputs": [
    {
     "name": "stdout",
     "output_type": "stream",
     "text": [
      "['2025', '3', '7']\n"
     ]
    }
   ],
   "source": [
    "import re\n",
    "\n",
    "text = \"나는 2025년에 3번이나 7시에 일어났다.\"\n",
    "pattern = r\"\\d+\"\n",
    "result = re.findall(pattern, text)\n",
    "print(result)"
   ]
  },
  {
   "cell_type": "code",
   "execution_count": 11,
   "id": "4bb86afd-f0e9-4ee4-bcbf-ca8bed6687af",
   "metadata": {},
   "outputs": [
    {
     "name": "stdout",
     "output_type": "stream",
     "text": [
      "[]\n"
     ]
    }
   ],
   "source": [
    "import re\n",
    "\n",
    "text = \"나는 2025년에 3번이나 7시에 일어났다.\"\n",
    "pattern = r\"010-[0-9]{3,}-[0-9]{3,}\"\n",
    "result = re.findall(pattern, text)\n",
    "print(result)"
   ]
  },
  {
   "cell_type": "code",
   "execution_count": 19,
   "id": "2f0d016a-c363-4264-a27f-fe92758eefa6",
   "metadata": {},
   "outputs": [
    {
     "name": "stdout",
     "output_type": "stream",
     "text": [
      "['010-1234-5678', '010-555-9999']\n"
     ]
    }
   ],
   "source": [
    "import re \n",
    "text = \"내 번호는 010-1234-5678이고, 엄마 번호는 010-555-9999야.\"\n",
    "pattern = r\"01[0-9]-[0-9]{3,4}-[0-9]{4}\"\n",
    "result = re.findall(pattern, text)\n",
    "print(result)"
   ]
  },
  {
   "cell_type": "code",
   "execution_count": 23,
   "id": "b2a7a5b5-2ccb-4f81-a375-1eb2d4876cbe",
   "metadata": {},
   "outputs": [
    {
     "name": "stdout",
     "output_type": "stream",
     "text": [
      "['930512-1234567', '850101-7654321']\n"
     ]
    }
   ],
   "source": [
    "import re \n",
    "\n",
    "text = \"형의 주민등록번호는 930512-1234567이고, 내껀 850101-7654321이야.\"\n",
    "\n",
    "pattern = r\"[0-9]{6}-[0-9]{7}\"\n",
    "result = re.findall(pattern, text)\n",
    "print(result)"
   ]
  },
  {
   "cell_type": "code",
   "execution_count": 28,
   "id": "da9758f1-9efa-44f6-a5d9-df70d2b1284f",
   "metadata": {},
   "outputs": [
    {
     "name": "stdout",
     "output_type": "stream",
     "text": [
      "['hello@naver.com', 'test123@gmail.com', 'admin@bitcamp.co.kr']\n"
     ]
    }
   ],
   "source": [
    "import re \n",
    "\n",
    "text = \"이메일: hello@naver.com, test123@gmail.com, admin@bitcamp.co.kr\"\n",
    "\n",
    "pattern = r\"[\\w\\.]+@[\\w\\.]+\"\n",
    "\n",
    "result = re.findall(pattern, text)\n",
    "print(result)"
   ]
  },
  {
   "cell_type": "code",
   "execution_count": 29,
   "id": "a4ddd15c-f50f-4b8c-a182-29fcf689a29a",
   "metadata": {},
   "outputs": [
    {
     "name": "stdout",
     "output_type": "stream",
     "text": [
      "['python', 'is', 'fun', 'ava', 'is', 'powerful', 'go', 'ang', 'is', 'weird', 'ruby', 'on', 'rails', 'is', 'cool']\n"
     ]
    }
   ],
   "source": [
    "import re\n",
    "\n",
    "text = \"python is fun. Java is powerful. goLang is weird. ruby_on_rails is cool.\"\n",
    "\n",
    "pattern = r\"[a-z]+\"\n",
    "result = re.findall(pattern, text)\n",
    "print(result)"
   ]
  },
  {
   "cell_type": "code",
   "execution_count": 46,
   "id": "8645aba1-ad02-4b23-a27c-2bd902b6eb53",
   "metadata": {},
   "outputs": [
    {
     "name": "stdout",
     "output_type": "stream",
     "text": [
      "['hello@naver.com', 'test@gmail.com']\n"
     ]
    }
   ],
   "source": [
    "import re\n",
    "\n",
    "text = \"hello@naver.com, test@gmail.com, admin@bitcamp.co.kr, dev@github.io\"\n",
    "pattern = r\"[\\w]+@[\\w]+[\\.]com\"\n",
    "result = re.findall(pattern, text)\n",
    "print(result)"
   ]
  },
  {
   "cell_type": "code",
   "execution_count": 48,
   "id": "20d39b14-76d1-4c05-b8fb-075c85c0cb3f",
   "metadata": {},
   "outputs": [
    {
     "name": "stdout",
     "output_type": "stream",
     "text": [
      "['admin@bitcamp.co.kr']\n"
     ]
    }
   ],
   "source": [
    "text = \"\"\"\n",
    "hello@naver.com\n",
    "test@gmail.com\n",
    "admin@bitcamp.co.kr\n",
    "dev@github.io\n",
    "sales@korea.kr\n",
    "\"\"\"\n",
    "\n",
    "pattern = r\"[\\w]+@[\\w]+\\.co\\.kr\"\n",
    "\n",
    "result = re.findall(pattern, text)\n",
    "print(result)"
   ]
  },
  {
   "cell_type": "code",
   "execution_count": 56,
   "id": "5e314f8d-6e4f-4c0b-a0ff-d88216289749",
   "metadata": {},
   "outputs": [
    {
     "name": "stdout",
     "output_type": "stream",
     "text": [
      "\n",
      "형: \\******-1\n",
      "나: \\******-1\n",
      "친구: \\******-1\n",
      "\n"
     ]
    }
   ],
   "source": [
    "text = \"\"\"\n",
    "형: 930512-1234567\n",
    "나: 850101-7654321\n",
    "친구: 700707-3456123\n",
    "\"\"\"\n",
    "\n",
    "pattern = r\"[\\d]{6}-([\\d]{7})\"\n",
    "\n",
    "result = re.sub(pattern, r\"\\******-1\", text)\n",
    "print(result)"
   ]
  },
  {
   "cell_type": "code",
   "execution_count": 62,
   "id": "cfc0a928-b923-47e0-8dcf-45cd22629ec6",
   "metadata": {},
   "outputs": [
    {
     "name": "stdout",
     "output_type": "stream",
     "text": [
      "['오늘의', '주제는', '데이터분석1', '입니다', '다음', '단어는', '분석2', '그리고', '인공지능5', '입니다', '하지만', '데이터5과학', '분석', '마케팅', '등도', '존재합니다']\n"
     ]
    }
   ],
   "source": [
    "import re\n",
    "\n",
    "text = \"\"\"\n",
    "오늘의 주제는 데이터분석1 입니다.\n",
    "다음 단어는 분석2, 그리고 machine3, learning4, 인공지능5, deep6입니다.\n",
    "하지만 deep7, 데이터5과학, 분석, 마케팅 등도 존재합니다.\n",
    "\"\"\"\n",
    "\n",
    "pattern = r\"[가-힣][\\w]*\"\n",
    "\n",
    "result = re.findall(pattern, text)\n",
    "print(result)"
   ]
  }
 ],
 "metadata": {
  "kernelspec": {
   "display_name": "Python [conda env:base] *",
   "language": "python",
   "name": "conda-base-py"
  },
  "language_info": {
   "codemirror_mode": {
    "name": "ipython",
    "version": 3
   },
   "file_extension": ".py",
   "mimetype": "text/x-python",
   "name": "python",
   "nbconvert_exporter": "python",
   "pygments_lexer": "ipython3",
   "version": "3.13.5"
  }
 },
 "nbformat": 4,
 "nbformat_minor": 5
}
