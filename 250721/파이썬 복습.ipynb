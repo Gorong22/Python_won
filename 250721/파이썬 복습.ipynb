{
 "cells": [
  {
   "cell_type": "code",
   "execution_count": 11,
   "id": "182ca1e2-5529-4055-9903-3110b8ea0edf",
   "metadata": {},
   "outputs": [
    {
     "name": "stdout",
     "output_type": "stream",
     "text": [
      "A Light in the Attic-£51.77\n",
      "Tipping the Velvet-£53.74\n",
      "Soumission-£50.10\n",
      "Sharp Objects-£47.82\n",
      "Sapiens: A Brief History of Humankind-£54.23\n",
      "The Requiem Red-£22.65\n",
      "The Dirty Little Secrets of Getting Your Dream Job-£33.34\n",
      "The Coming Woman: A Novel Based on the Life of the Infamous Feminist, Victoria Woodhull-£17.93\n",
      "The Boys in the Boat: Nine Americans and Their Epic Quest for Gold at the 1936 Berlin Olympics-£22.60\n",
      "The Black Maria-£52.15\n",
      "Starving Hearts (Triangular Trade Trilogy, #1)-£13.99\n",
      "Shakespeare's Sonnets-£20.66\n",
      "Set Me Free-£17.46\n",
      "Scott Pilgrim's Precious Little Life (Scott Pilgrim #1)-£52.29\n",
      "Rip it Up and Start Again-£35.02\n",
      "Our Band Could Be Your Life: Scenes from the American Indie Underground, 1981-1991-£57.25\n",
      "Olio-£23.88\n",
      "Mesaerion: The Best Science Fiction Stories 1800-1849-£37.59\n",
      "Libertarianism for Beginners-£51.33\n",
      "It's Only the Himalayas-£45.17\n"
     ]
    }
   ],
   "source": [
    "import requests\n",
    "from bs4 import BeautifulSoup\n",
    "\n",
    "url = \"https://books.toscrape.com/\"\n",
    "\n",
    "res = requests.get(url)\n",
    "\n",
    "soup = BeautifulSoup(res.content, \"html.parser\")\n",
    "\n",
    "#책제목과 가격만 출력해라 \n",
    "\n",
    "title = soup.select(\"article.product_pod\")\n",
    "\n",
    "\n",
    "for titles in title :\n",
    "    book = titles.select_one(\"h3 a\")[\"title\"]\n",
    "    price= titles.select_one(\"p.price_color\").text\n",
    "\n",
    "    print(f\"{book}-{price}\")\n",
    "\n",
    "\n",
    "\n"
   ]
  },
  {
   "cell_type": "code",
   "execution_count": 13,
   "id": "b75abc8e-1176-4500-886c-750e654085eb",
   "metadata": {},
   "outputs": [
    {
     "name": "stdout",
     "output_type": "stream",
     "text": [
      "The Requiem Red-22.65\n",
      "The Coming Woman: A Novel Based on the Life of the Infamous Feminist, Victoria Woodhull-17.93\n",
      "The Boys in the Boat: Nine Americans and Their Epic Quest for Gold at the 1936 Berlin Olympics-22.6\n",
      "Starving Hearts (Triangular Trade Trilogy, #1)-13.99\n",
      "Shakespeare's Sonnets-20.66\n",
      "Set Me Free-17.46\n",
      "Olio-23.88\n"
     ]
    }
   ],
   "source": [
    "import requests\n",
    "from bs4 import BeautifulSoup\n",
    "\n",
    "url = \"https://books.toscrape.com/\"\n",
    "\n",
    "res = requests.get(url)\n",
    "\n",
    "soup = BeautifulSoup(res.content, \"html.parser\")\n",
    "\n",
    "#책제목과 가격만 출력해라 \n",
    "\n",
    "title = soup.select(\"article.product_pod\")\n",
    "\n",
    "\n",
    "for titles in title :\n",
    "    book = titles.select_one(\"h3 a\")[\"title\"]\n",
    "    price = titles.select_one(\"p.price_color\").text\n",
    "    price_2 = float(price.replace(\"£\",\" \"))\n",
    "    if price_2 <= 30 :\n",
    "        print(f\"{book}-{price_2}\")"
   ]
  },
  {
   "cell_type": "code",
   "execution_count": 14,
   "id": "ea769579-3f90-4a9d-b1fa-0cc6fdf952ad",
   "metadata": {},
   "outputs": [
    {
     "name": "stdout",
     "output_type": "stream",
     "text": [
      "\n",
      "📘 [1페이지] =======================\n",
      "A Light in the Attic - £51.77\n",
      "Tipping the Velvet - £53.74\n",
      "Soumission - £50.10\n",
      "Sharp Objects - £47.82\n",
      "Sapiens: A Brief History of Humankind - £54.23\n",
      "The Requiem Red - £22.65\n",
      "The Dirty Little Secrets of Getting Your Dream Job - £33.34\n",
      "The Coming Woman: A Novel Based on the Life of the Infamous Feminist, Victoria Woodhull - £17.93\n",
      "The Boys in the Boat: Nine Americans and Their Epic Quest for Gold at the 1936 Berlin Olympics - £22.60\n",
      "The Black Maria - £52.15\n",
      "Starving Hearts (Triangular Trade Trilogy, #1) - £13.99\n",
      "Shakespeare's Sonnets - £20.66\n",
      "Set Me Free - £17.46\n",
      "Scott Pilgrim's Precious Little Life (Scott Pilgrim #1) - £52.29\n",
      "Rip it Up and Start Again - £35.02\n",
      "Our Band Could Be Your Life: Scenes from the American Indie Underground, 1981-1991 - £57.25\n",
      "Olio - £23.88\n",
      "Mesaerion: The Best Science Fiction Stories 1800-1849 - £37.59\n",
      "Libertarianism for Beginners - £51.33\n",
      "It's Only the Himalayas - £45.17\n",
      "\n",
      "📘 [2페이지] =======================\n",
      "In Her Wake - £12.84\n",
      "How Music Works - £37.32\n",
      "Foolproof Preserving: A Guide to Small Batch Jams, Jellies, Pickles, Condiments, and More: A Foolproof Guide to Making Small Batch Jams, Jellies, Pickles, Condiments, and More - £30.52\n",
      "Chase Me (Paris Nights #2) - £25.27\n",
      "Black Dust - £34.53\n",
      "Birdsong: A Story in Pictures - £54.64\n",
      "America's Cradle of Quarterbacks: Western Pennsylvania's Football Factory from Johnny Unitas to Joe Montana - £22.50\n",
      "Aladdin and His Wonderful Lamp - £53.13\n",
      "Worlds Elsewhere: Journeys Around Shakespeare’s Globe - £40.30\n",
      "Wall and Piece - £44.18\n",
      "The Four Agreements: A Practical Guide to Personal Freedom - £17.66\n",
      "The Five Love Languages: How to Express Heartfelt Commitment to Your Mate - £31.05\n",
      "The Elephant Tree - £23.82\n",
      "The Bear and the Piano - £36.89\n",
      "Sophie's World - £15.94\n",
      "Penny Maybe - £33.29\n",
      "Maude (1883-1993):She Grew Up with the country - £18.02\n",
      "In a Dark, Dark Wood - £19.63\n",
      "Behind Closed Doors - £52.22\n",
      "You can't bury them all: Poems - £33.63\n",
      "\n",
      "📘 [3페이지] =======================\n",
      "Slow States of Collapse: Poems - £57.31\n",
      "Reasons to Stay Alive - £26.41\n",
      "Private Paris (Private #10) - £47.61\n",
      "#HigherSelfie: Wake Up Your Life. Free Your Soul. Find Your Tribe. - £23.11\n",
      "Without Borders (Wanderlove #1) - £45.07\n",
      "When We Collided - £31.77\n",
      "We Love You, Charlie Freeman - £50.27\n",
      "Untitled Collection: Sabbath Poems 2014 - £14.27\n",
      "Unseen City: The Majesty of Pigeons, the Discreet Charm of Snails & Other Wonders of the Urban Wilderness - £44.18\n",
      "Unicorn Tracks - £18.78\n",
      "Unbound: How Eight Technologies Made Us Human, Transformed Society, and Brought Our World to the Brink - £25.52\n",
      "Tsubasa: WoRLD CHRoNiCLE 2 (Tsubasa WoRLD CHRoNiCLE #2) - £16.28\n",
      "Throwing Rocks at the Google Bus: How Growth Became the Enemy of Prosperity - £31.12\n",
      "This One Summer - £19.49\n",
      "Thirst - £17.27\n",
      "The Torch Is Passed: A Harding Family Story - £19.09\n",
      "The Secret of Dreadwillow Carse - £56.13\n",
      "The Pioneer Woman Cooks: Dinnertime: Comfort Classics, Freezer Food, 16-Minute Meals, and Other Delicious Ways to Solve Supper! - £56.41\n",
      "The Past Never Ends - £56.50\n",
      "The Natural History of Us (The Fine Art of Pretending #2) - £45.22\n"
     ]
    }
   ],
   "source": [
    "import requests\n",
    "from bs4 import BeautifulSoup\n",
    "\n",
    "base_url = \"https://books.toscrape.com/catalogue/page-{}.html\"\n",
    "\n",
    "for page in range(1, 4):  # 1~3페이지 반복\n",
    "    url = base_url.format(page)\n",
    "    print(f\"\\n📘 [{page}페이지] =======================\")\n",
    "    \n",
    "    res = requests.get(url)\n",
    "    soup = BeautifulSoup(res.content, \"html.parser\")\n",
    "    \n",
    "    books = soup.select(\"article.product_pod\")\n",
    "    \n",
    "    for book in books:\n",
    "        title = book.select_one(\"h3 a\")[\"title\"]\n",
    "        price = book.select_one(\"p.price_color\").text\n",
    "        print(f\"{title} - {price}\")\n"
   ]
  },
  {
   "cell_type": "code",
   "execution_count": 17,
   "id": "27dd4a26-db62-454e-8c18-07be6faec476",
   "metadata": {},
   "outputs": [
    {
     "name": "stdout",
     "output_type": "stream",
     "text": [
      "['나는', '2025년', '7월', '21일에', '시작했다']\n"
     ]
    }
   ],
   "source": [
    "import re\n",
    "\n",
    "test = \"나는 2025년에 Python을 배우기 시작했다\"\n",
    "word = re.findall(r\"\\w+\", \"나는 2025년 7월 21일에 시작했다\")\n",
    "print(word)"
   ]
  },
  {
   "cell_type": "code",
   "execution_count": 23,
   "id": "ab11a707-1bb3-4fc2-83f9-8ac9c1b2100f",
   "metadata": {},
   "outputs": [
    {
     "name": "stdout",
     "output_type": "stream",
     "text": [
      "['y', 't', 'h', 'o', 'n', 'c', 'o', 'l', 'l', 'v', 'e', 'r', 's', 'i', 'o', 'n']\n"
     ]
    }
   ],
   "source": [
    "import re \n",
    "\n",
    "text = \"Python3.9은 정말 coll해요! version은 3.10입니다\"\n",
    "word = re.findall(r\"[a-z]\", text)\n",
    "print(word)"
   ]
  },
  {
   "cell_type": "code",
   "execution_count": null,
   "id": "f69bf782-4a2a-4fce-a12b-9b6bdcb03829",
   "metadata": {},
   "outputs": [],
   "source": [
    "import re\n",
    "\n",
    "text = \"나는 2025년에 3번이나 7시에 일어났다.\"\n",
    "pattern = \"\""
   ]
  },
  {
   "cell_type": "code",
   "execution_count": null,
   "id": "46ca6fb3-c7b7-424c-a7f5-71519855b2bd",
   "metadata": {},
   "outputs": [],
   "source": []
  }
 ],
 "metadata": {
  "kernelspec": {
   "display_name": "Python [conda env:base] *",
   "language": "python",
   "name": "conda-base-py"
  },
  "language_info": {
   "codemirror_mode": {
    "name": "ipython",
    "version": 3
   },
   "file_extension": ".py",
   "mimetype": "text/x-python",
   "name": "python",
   "nbconvert_exporter": "python",
   "pygments_lexer": "ipython3",
   "version": "3.13.5"
  }
 },
 "nbformat": 4,
 "nbformat_minor": 5
}
