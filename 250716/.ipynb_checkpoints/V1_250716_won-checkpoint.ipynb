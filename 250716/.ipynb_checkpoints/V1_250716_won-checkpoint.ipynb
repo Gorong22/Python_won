{
 "cells": [
  {
   "cell_type": "code",
   "execution_count": 9,
   "id": "b4584231-2242-4d07-899f-3b988c846c6c",
   "metadata": {},
   "outputs": [
    {
     "name": "stdout",
     "output_type": "stream",
     "text": [
      "2025-07-16\n"
     ]
    }
   ],
   "source": [
    "import json\n",
    "\n",
    "data = \"\"\"\n",
    "{\n",
    "    \"id\":\"01\", \"language\":\"python\", \"edition\":\"third\", \"author\":\"David\",\n",
    "    \"history\":\n",
    "        [\n",
    "            {\n",
    "                \"date\":\"2025-07-16\",\n",
    "                \"item\":\"iPhone\"\n",
    "            },\n",
    "            {\n",
    "                \"date\":\"2025-03-11\",\n",
    "                \"item\" : \"Android\"\n",
    "            }\n",
    "        ]\n",
    "}\n",
    "\"\"\"\n",
    "\n",
    "json_data = json.loads(data)\n",
    "print(json_data[\"history\"][0][\"date\"])"
   ]
  },
  {
   "cell_type": "code",
   "execution_count": 15,
   "id": "d518cae0-91d5-4de3-bce8-f684c78cfc70",
   "metadata": {},
   "outputs": [
    {
     "name": "stdout",
     "output_type": "stream",
     "text": [
      "[비비앙] 월넛크릭그린 오 드 퍼퓸 EDP 10ml 20250423-2\n"
     ]
    }
   ],
   "source": [
    "import json\n",
    "\n",
    "data = \"\"\" \n",
    "{\n",
    "    \"lastBuildDate\": \"Wed, 16 Jul 2025 13:20:26 +0900\",\n",
    "    \"total\": 1261632,\n",
    "    \"start\": 1,\n",
    "    \"display\": 10,\n",
    "    \"items\": [\n",
    "        {\n",
    "            \"title\": \"[비비앙] 월넛크릭그린 오 드 퍼퓸 EDP 10ml 20250423-2\",\n",
    "            \"link\": \"https://link.musinsa.com/app/goods/4442601?utm_source=naver_jisicshopping&utm_medium=sh&source=NVSH&utm_term={keyword}&utm_content={ad_group}\",\n",
    "            \"image\": \"https://shopping-phinf.pstatic.net/main_5038779/50387791565.jpg\",\n",
    "            \"lprice\": \"41900\",\n",
    "            \"hprice\": \"\",\n",
    "            \"mallName\": \"무신사\",\n",
    "            \"productId\": \"50387791565\",\n",
    "            \"productType\": \"2\",\n",
    "            \"brand\": \"비비앙\",\n",
    "            \"maker\": \"\",\n",
    "            \"category1\": \"화장품/미용\",\n",
    "            \"category2\": \"향수\",\n",
    "            \"category3\": \"여성향수\",\n",
    "            \"category4\": \"\"\n",
    "        },\n",
    "\n",
    "       {\n",
    "            \"title\": \"[비키니밴더] 어네스 티어드 롱 스커트 - WHITE 5007263292\",\n",
    "            \"link\": \"https://link.musinsa.com/app/goods/4695025?utm_source=naver_jisicshopping&utm_medium=sh&source=NVSH&utm_term={keyword}&utm_content={ad_group}\",\n",
    "            \"image\": \"https://shopping-phinf.pstatic.net/main_5227517/52275174154.jpg\",\n",
    "            \"lprice\": \"36090\",\n",
    "            \"hprice\": \"\",\n",
    "            \"mallName\": \"무신사\",\n",
    "            \"productId\": \"52275174154\",\n",
    "            \"productType\": \"2\",\n",
    "            \"brand\": \"비키니밴더\",\n",
    "            \"maker\": \"\",\n",
    "            \"category1\": \"패션의류\",\n",
    "            \"category2\": \"여성의류\",\n",
    "            \"category3\": \"스커트\",\n",
    "            \"category4\": \"\"\n",
    "        },\n",
    "        {\n",
    "            \"title\": \"[마크모크] Matty 4Color 스포티 청키 벨크로 샌들 5Cm Matty\",\n",
    "            \"link\": \"https://link.musinsa.com/app/goods/4045691?utm_source=naver_jisicshopping&utm_medium=sh&source=NVSH&utm_term={keyword}&utm_content={ad_group}\",\n",
    "            \"image\": \"https://shopping-phinf.pstatic.net/main_4716718/47167182801.2.jpg\",\n",
    "            \"lprice\": \"69300\",\n",
    "            \"hprice\": \"\",\n",
    "            \"mallName\": \"무신사\",\n",
    "            \"productId\": \"47167182801\",\n",
    "            \"productType\": \"2\",\n",
    "            \"brand\": \"마크모크\",\n",
    "            \"maker\": \"마크모크\",\n",
    "            \"category1\": \"패션잡화\",\n",
    "            \"category2\": \"여성신발\",\n",
    "            \"category3\": \"샌들\",\n",
    "            \"category4\": \"스트랩샌들\"\n",
    "        } \n",
    "    ]\n",
    "\n",
    "}\n",
    "\n",
    "\"\"\"\n",
    "\n",
    "json_data = json.loads(data)\n",
    "print(json_data[\"items\"][0][\"title\"])"
   ]
  },
  {
   "cell_type": "code",
   "execution_count": null,
   "id": "ea4173d1-4c35-46b5-9d4c-87cf17999925",
   "metadata": {},
   "outputs": [],
   "source": [
    "import requests\n",
    "\n",
    "\n",
    "client_id = \"B1sLpNaxc2DVXvDKtKBF\"\n",
    "client_pw = \"LozUo2X3YL\"\n",
    "\n",
    "naver_open_api = \"https://openapi.naver.com/v1/search/shop.json?query=무신사\"\n",
    "header_params = {\"X-Naver-Client-Id\":client_id, \"X-Naver-Client-Secret\":client_pw}\n",
    "\n",
    "res = requests.get(naver_open_api, headers = header_params)\n"
   ]
  }
 ],
 "metadata": {
  "kernelspec": {
   "display_name": "Python [conda env:base] *",
   "language": "python",
   "name": "conda-base-py"
  },
  "language_info": {
   "codemirror_mode": {
    "name": "ipython",
    "version": 3
   },
   "file_extension": ".py",
   "mimetype": "text/x-python",
   "name": "python",
   "nbconvert_exporter": "python",
   "pygments_lexer": "ipython3",
   "version": "3.13.5"
  }
 },
 "nbformat": 4,
 "nbformat_minor": 5
}
