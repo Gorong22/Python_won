{
 "cells": [
  {
   "cell_type": "code",
   "execution_count": null,
   "id": "ef98d1ec-935b-45d5-81cc-4d7f98f1ca86",
   "metadata": {},
   "outputs": [],
   "source": []
  },
  {
   "cell_type": "code",
   "execution_count": 6,
   "id": "a8a398e3-bc0b-460f-a0d9-af3415c0c19d",
   "metadata": {},
   "outputs": [
    {
     "name": "stdout",
     "output_type": "stream",
     "text": [
      "엑셀 저장 완료 : kurly_reviews.xlsx\n"
     ]
    }
   ],
   "source": [
    "from selenium import webdriver\n",
    "from selenium.webdriver.chrome.options import Options\n",
    "from bs4 import BeautifulSoup\n",
    "from openpyxl import Workbook\n",
    "from konlpy.tag import Okt\n",
    "from collections import Counter\n",
    "import time\n",
    "\n",
    "\n",
    "options = Options()\n",
    "options.add_argument(\"--no-sandbox\")\n",
    "options.add_argument(\"--disable-dev-shm-usage\")\n",
    "options.add_argument(\"--headless\")\n",
    "\n",
    "driver = webdriver.Chrome(options=options)\n",
    "\n",
    "\n",
    "url = \"https://www.kurly.com/goods/1000078028\"\n",
    "driver.get(url)\n",
    "time.sleep(5)\n",
    "\n",
    "soup = BeautifulSoup(driver.page_source, \"html.parser\")\n",
    "reviews = soup.select(\"p.css-y49dcn.e36z05c13\")\n",
    "\n",
    "review_lists = [review.get_text().strip() for review in reviews]  \n",
    "\n",
    "\n",
    "\n",
    "wb = Workbook()\n",
    "ws = wb.active\n",
    "ws.title = \"Kurly Reviews\"\n",
    "ws.append([\"리뷰내용\"])\n",
    "\n",
    "for item in review_lists :\n",
    "    ws.append([item])\n",
    "\n",
    "okt = Okt()\n",
    "all_text = \" \".join(review_lists)\n",
    "nouns = okt.nouns(all_text)\n",
    "filtered_nouns = [n for n in nouns if len(n) > 1]\n",
    "count = Counter(filtered_nouns)\n",
    "\n",
    "ws_keywords = wb.create_sheet(\"keyword Frequency\")\n",
    "ws_keywords.append([\"키워드\", \"빈도수\"])\n",
    "for word, freq in count.most_common(30) :\n",
    "    ws_keywords.append([word, freq])\n",
    "\n",
    "\n",
    "wb.save(\"kurly_reviews.xlsx\")\n",
    "print(\"엑셀 저장 완료 : kurly_reviews.xlsx\")"
   ]
  },
  {
   "cell_type": "code",
   "execution_count": 15,
   "id": "62f35493-6e50-40bf-94a0-0c7b2d1a5b69",
   "metadata": {},
   "outputs": [
    {
     "name": "stdout",
     "output_type": "stream",
     "text": [
      "완료 : 전체 키워드 분석 결과 저장됨\n"
     ]
    }
   ],
   "source": [
    "from openpyxl import load_workbook\n",
    "from konlpy.tag import Okt\n",
    "from collections import Counter\n",
    "\n",
    "\n",
    "wb = load_workbook(\"keyword.xlsx\")\n",
    "ws = wb.active\n",
    "\n",
    "text =[row[0] for row in ws.iter_rows(min_row = 2, max_col = 1, values_only = True) if row [0]]\n",
    "\n",
    "okt = Okt()\n",
    "all_text = \" \".join(text)\n",
    "nouns = okt.nouns(all_text)\n",
    "filtered_nouns = [n for n in nouns if len(n) > 1]\n",
    "count = Counter(filtered_nouns)\n",
    "\n",
    "ws_keywords = wb.create_sheet(\"키워드 전체분석\")\n",
    "ws_keywords.append([\"명사\", \"빈도수\"])\n",
    "\n",
    "for word, freq in sorted(count.items(), key=lambda x: x[1], reverse=True) :\n",
    "    ws_keywords.append([word, freq])\n",
    "\n",
    "wb.save(\"연관키워드_분석결과.xlsx\")\n",
    "print(\"완료 : 전체 키워드 분석 결과 저장됨\")\n"
   ]
  },
  {
   "cell_type": "code",
   "execution_count": 36,
   "id": "8b668b6c-02f1-4c22-aa28-1da86c81c716",
   "metadata": {},
   "outputs": [
    {
     "name": "stdout",
     "output_type": "stream",
     "text": [
      "완료\n"
     ]
    }
   ],
   "source": [
    "from openpyxl import load_workbook\n",
    "from konlpy.tag import Okt\n",
    "from collections import Counter\n",
    "\n",
    "wb_dev = load_workbook(\"풀스택_키워드.xlsx\")\n",
    "ws_dev = wb_dev.active\n",
    "\n",
    "dev = [row[0] for row in ws.iter_rows(min_row = 2, max_col = 1, values_only=True) if row [0]]\n",
    "\n",
    "okt = Okt()\n",
    "all_dev = \" \".join(dev)\n",
    "dev_nouns = okt.nouns(all_dev)\n",
    "filtered_dev_nouns = [d for d in dev_nouns if len(d) > 1]\n",
    "dev_counter = Counter(filtered_dev_nouns)\n",
    "\n",
    "ws_dev_keywords = wb_dev.create_sheet(\"개발자 키워드분석\")\n",
    "ws_dev_keywords.append([\"명사\", \"빈도수\"])\n",
    "\n",
    "for dev_word, freq in sorted(dev_counter.items(), key=lambda x: x[1], reverse=True) :\n",
    "    ws_dev_keywords.append([dev_word, freq])\n",
    "\n",
    "wb_dev.save(\"풀스택찐막_1.xlsx\")\n",
    "print(\"완료\")"
   ]
  },
  {
   "cell_type": "code",
   "execution_count": 37,
   "id": "1a338aa8-a3ea-4ba5-b646-098108737ed7",
   "metadata": {},
   "outputs": [
    {
     "name": "stdout",
     "output_type": "stream",
     "text": [
      "완료 : 전체 키워드 분석 결과 저장됨\n"
     ]
    }
   ],
   "source": [
    "from openpyxl import load_workbook\n",
    "from konlpy.tag import Okt\n",
    "from collections import Counter\n",
    "import re\n",
    "\n",
    "\n",
    "wb = load_workbook(\"keyword.xlsx\")\n",
    "ws = wb.active\n",
    "\n",
    "text =[row[0] for row in ws.iter_rows(min_row = 2, max_col = 1, values_only = True) if row [0]]\n",
    "\n",
    "okt = Okt()\n",
    "all_text = \" \".join(text)\n",
    "\n",
    "\n",
    "\n",
    "nouns_tokens = okt.nouns(all_text)\n",
    "\n",
    "regex_tokens = re.findall(r'[A-Za-z]*\\d+[A-Za-z]+|\\d+[A-Za-z]*', all_text)\n",
    "\n",
    "valid_one_letter = {\"금\", \"은\", \"동\"}\n",
    "stopwords = {\"사용\", \"정도\", \"조금\", \"제품\", \"떄문\", \"생각\", \"만족\", \"구매\", \"다음\"}\n",
    "\n",
    "combined_tokens = nouns_tokens + regex_tokens\n",
    "filtered_tokens = [t for t in combined_tokens if (len(t) > 1 or t in valid_one_letter) and t not in stopwords]\n",
    "\n",
    "\n",
    "\n",
    "\n",
    "count = Counter(filtered_nouns)\n",
    "\n",
    "ws_keywords = wb.create_sheet(\"키워드 전체분석\")\n",
    "ws_keywords.append([\"명사\", \"빈도수\"])\n",
    "\n",
    "for word, freq in sorted(count.items(), key=lambda x: x[1], reverse=True) :\n",
    "    ws_keywords.append([word, freq])\n",
    "\n",
    "wb.save(\"연관키워드_분석결과_2.xlsx\")\n",
    "print(\"완료 : 전체 키워드 분석 결과 저장됨\")"
   ]
  }
 ],
 "metadata": {
  "kernelspec": {
   "display_name": "Python [conda env:base] *",
   "language": "python",
   "name": "conda-base-py"
  },
  "language_info": {
   "codemirror_mode": {
    "name": "ipython",
    "version": 3
   },
   "file_extension": ".py",
   "mimetype": "text/x-python",
   "name": "python",
   "nbconvert_exporter": "python",
   "pygments_lexer": "ipython3",
   "version": "3.13.5"
  }
 },
 "nbformat": 4,
 "nbformat_minor": 5
}
