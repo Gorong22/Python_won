{
 "cells": [
  {
   "cell_type": "code",
   "execution_count": 1,
   "id": "2236af26-f975-4e3a-a313-e775be133876",
   "metadata": {},
   "outputs": [
    {
     "name": "stdout",
     "output_type": "stream",
     "text": [
      "Requirement already satisfied: openpyxl in c:\\programdata\\anaconda3\\lib\\site-packages (3.1.5)\n",
      "Requirement already satisfied: et-xmlfile in c:\\programdata\\anaconda3\\lib\\site-packages (from openpyxl) (1.1.0)\n"
     ]
    }
   ],
   "source": [
    "!pip install openpyxl"
   ]
  },
  {
   "cell_type": "code",
   "execution_count": null,
   "id": "043e2912-ec70-49ef-8947-7c41f6fe818d",
   "metadata": {},
   "outputs": [],
   "source": [
    "# openpyxl 라이브러리 찾아오기 \n",
    "import openpyxl\n",
    "\n",
    "# Workbook() 프로토타입 객체를 실행시켜서 하나의 엑셀파일을 생성하겠다는 의미\n",
    "excel_file = openpyxl.Workbook()\n",
    "\n",
    "# 엑셀파일 내부에는 기본적으로 Sheet가 1개 존재하는데 => 해당 시트를 선택 (active)\n",
    "excel_sheet = excel_file.active\n",
    "\n",
    "# 선택한 엑셀시트 내부에 데이터 추가 및 삽입하기 \n",
    "excel_sheet.append([\"data1\", \"data2\", \"data3\"])\n",
    "\n",
    "#엑셀파일저장하기\n",
    "excel_file.save(tmp.xlsx)\n",
    "\n",
    "#엑셀파일 종료하기\n",
    "escel_file.close()"
   ]
  },
  {
   "cell_type": "code",
   "execution_count": 22,
   "id": "b4295e87-9fa0-4f2c-9499-3b976325f548",
   "metadata": {},
   "outputs": [],
   "source": [
    "#데이터 크롤링 파트\n",
    "import requests\n",
    "from bs4 import BeautifulSoup\n",
    "\n",
    "url = \"https://davelee-fun.github.io/\"\n",
    "product_lists = []\n",
    "\n",
    "for page_num in range(10) :\n",
    "    if page_num == 0 :\n",
    "        res = requests.get(url)\n",
    "    else :\n",
    "        res = requests.get(f\"{url}page{page_num + 1}\")\n",
    "    soup = BeautifulSoup(res.content, \"html.parser\")\n",
    "    datas = soup.select(\"div.card\")\n",
    "    \n",
    "    for data in datas  :\n",
    "        product_name = data.select_one(\"div.card-body > h4.card-text\")\n",
    "        product_date = data.select_one(\"div.wrapfooter span.post-date\")\n",
    "        product_info = [product_name.get_text().strip(), product_date.get_text().strip()]\n",
    "        product_lists.append(product_info)"
   ]
  },
  {
   "cell_type": "code",
   "execution_count": 23,
   "id": "5b201447-afda-46eb-916a-6590e89d0eb5",
   "metadata": {},
   "outputs": [],
   "source": [
    "# 2. 엑셀시트 저장용 함수생성 파트 \n",
    "\n",
    "import openpyxl\n",
    "\n",
    "def write_excel_template(filename, sheetname, excel_save) :\n",
    "    excel_file = openpyxl.Workbook()\n",
    "    excel_sheet = excel_file.active\n",
    "    excel_sheet.column_dimensions[\"A\"].width = 100\n",
    "\n",
    "    if sheetname != \"\" :\n",
    "        excel_sheet.title = sheetname\n",
    "\n",
    "    for item in excel_save :\n",
    "        excel_sheet.append(item)\n",
    "        \n",
    "    excel_file.save(filename)\n",
    "    excel_file.close()\n",
    "    "
   ]
  },
  {
   "cell_type": "code",
   "execution_count": 24,
   "id": "01ef9e3c-eda1-43f8-92a0-c0a6cec2645a",
   "metadata": {},
   "outputs": [],
   "source": [
    "#3. 엑셀시트 저장용 함수호출\n",
    "write_excel_template(\"tmp.xlsx\", \"상품정보\", product_lists)"
   ]
  }
 ],
 "metadata": {
  "kernelspec": {
   "display_name": "Python [conda env:base] *",
   "language": "python",
   "name": "conda-base-py"
  },
  "language_info": {
   "codemirror_mode": {
    "name": "ipython",
    "version": 3
   },
   "file_extension": ".py",
   "mimetype": "text/x-python",
   "name": "python",
   "nbconvert_exporter": "python",
   "pygments_lexer": "ipython3",
   "version": "3.13.5"
  }
 },
 "nbformat": 4,
 "nbformat_minor": 5
}
