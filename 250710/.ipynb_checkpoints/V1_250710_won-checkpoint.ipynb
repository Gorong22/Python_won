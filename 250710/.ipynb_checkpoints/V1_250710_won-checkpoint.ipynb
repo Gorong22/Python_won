{
 "cells": [
  {
   "cell_type": "code",
   "execution_count": null,
   "id": "16737f90-ba41-45ae-a5c9-090a63bbfc21",
   "metadata": {},
   "outputs": [],
   "source": [
    "import requests\n",
    "from bs4 import BeautifulSoup\n",
    "\n",
    "res = requests.get(\"https://crawlingtest.netlify.app/\")\n",
    "soup = BeautifulSoup(res.content, \"html.parser\")\n",
    "\n",
    "titles = soup.find_all(\"li\", \"course\")\n",
    "\n",
    "for index, title in enumerate(titles) :\n",
    "    print(index+1, title.get_text().split(\"-\")[1].replace(\"\\n\", \" \").replace(\" \", \"\").split(\"[\")[0].strip())"
   ]
  },
  {
   "cell_type": "code",
   "execution_count": null,
   "id": "27cabc3d-2b21-46f3-ac86-d4fa46d84cf3",
   "metadata": {},
   "outputs": [],
   "source": [
    "import requests\n",
    "from bs4 import BeautifulSoup\n",
    "\n",
    "res = requests.get(\"https://crawlingtest.netlify.app/\")\n",
    "soup = BeautifulSoup(res.content, \"html.parser\")\n",
    "\n",
    "titles = soup.find_all(\"li\", \"course\")\n",
    "for title in titles :\n",
    "    word = title.get_text().split(\"-\")[1]\n",
    "    print(word)"
   ]
  },
  {
   "cell_type": "code",
   "execution_count": null,
   "id": "d062a7ec-bd02-4140-a429-94e746e60059",
   "metadata": {},
   "outputs": [],
   "source": [
    "import requests\n",
    "from bs4 import BeautifulSoup\n",
    "\n",
    "res = requests.get(\"https://crawlingtest.netlify.app/\")\n",
    "soup = BeautifulSoup(res.content, \"html.parser\")\n",
    "\n",
    "titles = soup.find(\"ul\", attrs = {\"id\" : \"hobby_course_list\"})\n",
    "section = titles.find_all(\"li\", attrs = {\"class\" : \"course\"})\n",
    "\n",
    "for section in titles :\n",
    "    print(section.get_text())"
   ]
  }
 ],
 "metadata": {
  "kernelspec": {
   "display_name": "Python [conda env:base] *",
   "language": "python",
   "name": "conda-base-py"
  },
  "language_info": {
   "codemirror_mode": {
    "name": "ipython",
    "version": 3
   },
   "file_extension": ".py",
   "mimetype": "text/x-python",
   "name": "python",
   "nbconvert_exporter": "python",
   "pygments_lexer": "ipython3",
   "version": "3.13.5"
  }
 },
 "nbformat": 4,
 "nbformat_minor": 5
}
