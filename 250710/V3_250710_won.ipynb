{
 "cells": [
  {
   "cell_type": "code",
   "execution_count": 17,
   "id": "109a47ad-68f7-43d3-b820-a9c5aeb79721",
   "metadata": {},
   "outputs": [
    {
     "name": "stdout",
     "output_type": "stream",
     "text": [
      "\n",
      "Blog\n",
      "\n",
      "\n",
      "About\n",
      "\n"
     ]
    }
   ],
   "source": [
    "import requests\n",
    "from bs4 import BeautifulSoup\n",
    "\n",
    "url = \"https://davelee-fun.github.io/\"\n",
    "\n",
    "res = requests.get(url)\n",
    "soup = BeautifulSoup(res.content, \"html.parser\")\n",
    "\n",
    "items = soup.select(\"li.nav-item\")\n",
    "\n",
    "for item in items :\n",
    "    print(item.get_text())"
   ]
  },
  {
   "cell_type": "code",
   "execution_count": 18,
   "id": "f0b8ce7b-042a-43d0-9be0-679464caa7e3",
   "metadata": {},
   "outputs": [
    {
     "name": "stdout",
     "output_type": "stream",
     "text": [
      "\n",
      "Blog\n",
      "\n"
     ]
    }
   ],
   "source": [
    "import requests\n",
    "from bs4 import BeautifulSoup\n",
    "\n",
    "url = \"https://davelee-fun.github.io/\"\n",
    "\n",
    "res = requests.get(url)\n",
    "soup = BeautifulSoup(res.content, \"html.parser\")\n",
    "\n",
    "items = soup.select_one(\"li.nav-item.active\")\n",
    "print(itme.get_text())"
   ]
  },
  {
   "cell_type": "code",
   "execution_count": 32,
   "id": "18636cfd-f334-43d3-b3c0-1e6295335f81",
   "metadata": {},
   "outputs": [
    {
     "name": "stdout",
     "output_type": "stream",
     "text": [
      "Teddy의 선물 블로그\n"
     ]
    }
   ],
   "source": [
    "import requests\n",
    "from bs4 import BeautifulSoup\n",
    "\n",
    "url = \"https://davelee-fun.github.io/\"\n",
    "\n",
    "res = requests.get(url)\n",
    "soup = BeautifulSoup(res.content, \"html.parser\")\n",
    "\n",
    "items = soup.select_one(\"h1.sitetitle\")\n",
    "print(items.get_text())"
   ]
  },
  {
   "cell_type": "code",
   "execution_count": 34,
   "id": "40744b6d-b34d-4110-853d-9454270324cb",
   "metadata": {},
   "outputs": [
    {
     "name": "stdout",
     "output_type": "stream",
     "text": [
      "선물하기 좋은 선물을 고르고 골라서 소개하는 블로그입니다.\n"
     ]
    }
   ],
   "source": [
    "import requests\n",
    "from bs4 import BeautifulSoup\n",
    "\n",
    "url = \"https://davelee-fun.github.io/\"\n",
    "\n",
    "res = requests.get(url)\n",
    "soup = BeautifulSoup(res.content, \"html.parser\")\n",
    "\n",
    "items = soup.select_one(\"p.lead\")\n",
    "print(items.get_text().strip())"
   ]
  },
  {
   "cell_type": "code",
   "execution_count": 56,
   "id": "4211905c-18d3-4abf-97f6-ea9a67dca250",
   "metadata": {},
   "outputs": [
    {
     "ename": "IndentationError",
     "evalue": "unexpected indent (1951615434.py, line 10)",
     "output_type": "error",
     "traceback": [
      "\u001b[1;36m  Cell \u001b[1;32mIn[56], line 10\u001b[1;36m\u001b[0m\n\u001b[1;33m    print(items)\u001b[0m\n\u001b[1;37m    ^\u001b[0m\n\u001b[1;31mIndentationError\u001b[0m\u001b[1;31m:\u001b[0m unexpected indent\n"
     ]
    }
   ],
   "source": [
    "import requests\n",
    "from bs4 import BeautifulSoup\n",
    "\n",
    "url = \"https://davelee-fun.github.io/\"\n",
    "\n",
    "res = requests.get(url)\n",
    "soup = BeautifulSoup(res.content, \"html.parser\")\n",
    "\n",
    "items = soup.select(\"div.row .col-md-6 mb-30px\")\n",
    "   print(items)\n",
    "        "
   ]
  },
  {
   "cell_type": "code",
   "execution_count": 64,
   "id": "7efded8a-659d-4f56-bbec-a7fee6d43cba",
   "metadata": {},
   "outputs": [
    {
     "name": "stdout",
     "output_type": "stream",
     "text": [
      "Teddy의 선물 블로그\n"
     ]
    }
   ],
   "source": [
    "import requests\n",
    "from bs4 import BeautifulSoup\n",
    "url = \"https://davelee-fun.github.io/\"\n",
    "\n",
    "res = requests.get(url)\n",
    "soup = BeautifulSoup(res.content, \"html.parser\")\n",
    "\n",
    "word = soup.select(\"h1.sitetitle\")\n",
    "for word1 in word:\n",
    "    print(word1.get_text())"
   ]
  },
  {
   "cell_type": "code",
   "execution_count": 68,
   "id": "e3c34f00-3b3e-410b-be01-a303a2bafec1",
   "metadata": {},
   "outputs": [
    {
     "name": "stdout",
     "output_type": "stream",
     "text": [
      "선물하기 좋은 선물을 고르고 골라서 소개하는 블로그입니다.\n"
     ]
    }
   ],
   "source": [
    "import requests\n",
    "from bs4 import BeautifulSoup\n",
    "\n",
    "url = \"https://davelee-fun.github.io/\"\n",
    "\n",
    "res = requests.get(url)\n",
    "soup = BeautifulSoup(res.content, \"html.parser\")\n",
    "\n",
    "word = soup.select_one(\"p.lead\")\n",
    "print(word.get_text().strip())"
   ]
  },
  {
   "cell_type": "code",
   "execution_count": 72,
   "id": "0c0deee3-a36b-4a07-b630-70545f527bb2",
   "metadata": {},
   "outputs": [
    {
     "name": "stdout",
     "output_type": "stream",
     "text": [
      "보몽드 순면스퀘어 솔리드 누빔매트커버, 다크블루\n",
      "슈에뜨룸 선인장 리플 침구 세트, 베이지\n",
      "선우랜드 레인보우 2단 문걸이용 옷걸이 _중형, 화이트, 상세페이지참조\n",
      "보드래 헬로우 누빔 매트리스커버, 핑크\n",
      "보드래 퍼펙트 누빔 매트리스커버, 차콜\n",
      "피아블 클래식 방수 매트리스커버, 화이트\n",
      "더자리 에코항균 마이크로 매트리스커버, 밀키차콜그레이\n",
      "더자리 프레쉬 퓨어 매트리스 커버, 퓨어 차콜그레이\n",
      "몽쉐어 알러스킨 항균 매트리스 커버, 카키그레이\n",
      "쿠팡 브랜드 - 코멧 홈 40수 트윌 순면 100% 홑겹 매트리스커버, 그레이\n",
      "패브릭아트 항균 마이크로 원단 매트리스 커버, 아이보리\n",
      "바숨 순면 누빔 침대 매트리스커버, 차콜\n",
      "WEMAX 다용도 문옷걸이, 화이트, 1개\n",
      "타카타카 프리미엄 나노 화이바 누빔 매트리스 커버, 젠틀핑핑\n",
      "보몽드 순면스퀘어 누빔매트커버, 다크그레이\n",
      "보드래 국내산 순면 60수 누빔 매트리스커버, 그레이\n"
     ]
    }
   ],
   "source": [
    "import requests\n",
    "from bs4 import BeautifulSoup\n",
    "\n",
    "url = \"https://davelee-fun.github.io/\"\n",
    "\n",
    "res = requests.get(url)\n",
    "soup = BeautifulSoup(res.content, \"html.parser\")\n",
    "\n",
    "word = soup.select(\"h4.card-text\")\n",
    "for word1 in word :\n",
    "    print(word1.get_text().split(\":\")[1].strip())"
   ]
  },
  {
   "cell_type": "code",
   "execution_count": 92,
   "id": "a882852b-78c5-420e-89d2-73e93384d4d1",
   "metadata": {},
   "outputs": [
    {
     "name": "stdout",
     "output_type": "stream",
     "text": [
      " 보드래 퍼펙트 누빔 매트리스커버, 차콜\n",
      "\n",
      "\n",
      " 피아블 클래식 방수 매트리스커버, 화이트\n",
      "\n",
      "\n",
      " 더자리 에코항균 마이크로 매트리스커버, 밀키차콜그레이\n",
      "\n",
      "\n",
      " 더자리 프레쉬 퓨어 매트리스 커버, 퓨어 차콜그레이\n",
      "\n",
      "\n",
      " 몽쉐어 알러스킨 항균 매트리스 커버, 카키그레이\n",
      "\n",
      "\n",
      " 쿠팡 브랜드 - 코멧 홈 40수 트윌 순면 100% 홑겹 매트리스커버, 그레이\n",
      "\n",
      "\n",
      " 패브릭아트 항균 마이크로 원단 매트리스 커버, 아이보리\n",
      "\n",
      "\n",
      " 바숨 순면 누빔 침대 매트리스커버, 차콜\n",
      "\n",
      "\n",
      " WEMAX 다용도 문옷걸이, 화이트, 1개\n",
      "\n",
      "\n",
      " 타카타카 프리미엄 나노 화이바 누빔 매트리스 커버, 젠틀핑핑\n",
      "\n",
      "\n",
      " 보몽드 순면스퀘어 누빔매트커버, 다크그레이\n",
      "\n",
      "\n",
      " 보드래 국내산 순면 60수 누빔 매트리스커버, 그레이\n",
      "\n",
      "\n"
     ]
    }
   ],
   "source": [
    "import requests\n",
    "from bs4 import BeautifulSoup\n",
    "\n",
    "url = \"https://davelee-fun.github.io/\"\n",
    "\n",
    "res = requests.get(url)\n",
    "soup = BeautifulSoup(res.content, \"html.parser\")\n",
    "\n",
    "word = soup.select_one(\".recent-posts\")\n",
    "items = word.select(\"h4.card-text\")\n",
    "for item in items :\n",
    "    print(item.get_text().split(\":\")[1])"
   ]
  },
  {
   "cell_type": "code",
   "execution_count": 106,
   "id": "41619250-f194-4fbb-89e7-36716b0ecef3",
   "metadata": {},
   "outputs": [
    {
     "name": "stdout",
     "output_type": "stream",
     "text": [
      "Never miss a story from us, subscribe to our newsletter\n"
     ]
    }
   ],
   "source": [
    "import requests\n",
    "from bs4 import BeautifulSoup\n",
    "\n",
    "url = \"https://davelee-fun.github.io/\"\n",
    "\n",
    "res = requests.get(url)\n",
    "soup = BeautifulSoup(res.content, \"html.parser\")\n",
    "\n",
    "word = soup.select_one(\"div.container.text-center\")\n",
    "print(word.get_text().strip())"
   ]
  }
 ],
 "metadata": {
  "kernelspec": {
   "display_name": "Python [conda env:base] *",
   "language": "python",
   "name": "conda-base-py"
  },
  "language_info": {
   "codemirror_mode": {
    "name": "ipython",
    "version": 3
   },
   "file_extension": ".py",
   "mimetype": "text/x-python",
   "name": "python",
   "nbconvert_exporter": "python",
   "pygments_lexer": "ipython3",
   "version": "3.13.5"
  }
 },
 "nbformat": 4,
 "nbformat_minor": 5
}
