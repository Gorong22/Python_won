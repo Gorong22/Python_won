{
 "cells": [
  {
   "cell_type": "code",
   "execution_count": null,
   "id": "82c25d72-82b3-4b80-ad7d-c9c40130ebd6",
   "metadata": {},
   "outputs": [],
   "source": []
  },
  {
   "cell_type": "code",
   "execution_count": 10,
   "id": "ec548d2c-5983-4416-b43f-b50a73cef031",
   "metadata": {},
   "outputs": [
    {
     "name": "stdout",
     "output_type": "stream",
     "text": [
      "Collecting webdriver-manager\n",
      "  Downloading webdriver_manager-4.0.2-py2.py3-none-any.whl.metadata (12 kB)\n",
      "Requirement already satisfied: requests in /opt/anaconda3/lib/python3.13/site-packages (from webdriver-manager) (2.32.3)\n",
      "Requirement already satisfied: python-dotenv in /opt/anaconda3/lib/python3.13/site-packages (from webdriver-manager) (1.1.0)\n",
      "Requirement already satisfied: packaging in /opt/anaconda3/lib/python3.13/site-packages (from webdriver-manager) (24.2)\n",
      "Requirement already satisfied: charset-normalizer<4,>=2 in /opt/anaconda3/lib/python3.13/site-packages (from requests->webdriver-manager) (3.3.2)\n",
      "Requirement already satisfied: idna<4,>=2.5 in /opt/anaconda3/lib/python3.13/site-packages (from requests->webdriver-manager) (3.7)\n",
      "Requirement already satisfied: urllib3<3,>=1.21.1 in /opt/anaconda3/lib/python3.13/site-packages (from requests->webdriver-manager) (2.5.0)\n",
      "Requirement already satisfied: certifi>=2017.4.17 in /opt/anaconda3/lib/python3.13/site-packages (from requests->webdriver-manager) (2025.6.15)\n",
      "Downloading webdriver_manager-4.0.2-py2.py3-none-any.whl (27 kB)\n",
      "Installing collected packages: webdriver-manager\n",
      "Successfully installed webdriver-manager-4.0.2\n"
     ]
    }
   ],
   "source": [
    "!pip install webdriver-manager"
   ]
  },
  {
   "cell_type": "code",
   "execution_count": 15,
   "id": "3ede91f2-e1c9-40e3-a84e-e8f6e9748582",
   "metadata": {},
   "outputs": [
    {
     "name": "stdout",
     "output_type": "stream",
     "text": [
      "상품명 : OG 에센셜 반팔티 와인 YT-303\n",
      "1, 품과 총장이 적당히 낙낙해서 편안하게 입기 좋아요.\n",
      "박시한 핏이긴 하지만 과하지 않아서 부담스럽지 않고 좋았습니다.\n",
      "보이시한 느낌으로 하의를 입으면 아주 잘 어울려요.\n",
      "2, 생각보다 색이 촌티나는 색깔이네용 깔끔한 느낌은 아뉨ㅜ\n",
      "3, 프로필사진 기준으로 햇볕에 비춰보이는 색감이라 약간 밝게 봤는데 프로필 사진 보다는 살짝 다크톤입니다.\n",
      "손으로 만져지는 촉감이 좋고 싸보이지도 않고 사이즈도 맞아서 잘\n",
      "4, 상품 가격 맘에 들게 잘 샀습니다. 색감도 맘에 들고 편하게 잘 입으려구요\n",
      "5, 사진 그래도 예요 크기도 맞고 색감도 좋네오 ㅊ 펀하요\n",
      "6, 동생이 입으려고 샀다는데 요즘에 정말 잘 입고 있는 것 같아요. 색은 사진보다 좀 더 채도 낮아요.\n",
      "7, 색도 예쁘고 옷도 적당히 두꺼워서 손이 자주가네요.\n",
      "8, 남동생이 샀는데 마음에 들어하네요. 좋아보여요.\n",
      "9, 색감 예쁘고 재질도 얇아서 여름에 시원하게 잘 입겠네요\n"
     ]
    }
   ],
   "source": [
    "from selenium import webdriver\n",
    "from selenium.webdriver.chrome.service import Service\n",
    "from selenium.webdriver.chrome.options import Options\n",
    "from selenium.webdriver.common.by import By\n",
    "from selenium.webdriver.support.ui import WebDriverWait\n",
    "from selenium.webdriver.support import expected_conditions as EC\n",
    "from bs4 import BeautifulSoup\n",
    "from webdriver_manager.chrome import ChromeDriverManager\n",
    "from openpyxl import Workbook\n",
    "import time\n",
    "\n",
    "\n",
    "options = Options()\n",
    "options.add_argument(\"--headless\")\n",
    "options.add_argument(\"--no-sandbox\")\n",
    "options.add_argument(\"--disable-dev-shm-usage\")\n",
    "\n",
    "service = Service(ChromeDriverManager().install())\n",
    "driver = webdriver.Chrome(service=service, options=options)\n",
    "url = \"https://www.musinsa.com/products/5086744\"\n",
    "driver.get(url)\n",
    "\n",
    "try : \n",
    "    review_button = WebDriverWait(driver, 10). until(\n",
    "        EC.element_to_be_clickable((By.XPATH, \"//span[contains(text(), '스냅·후기')]\"))\n",
    "    )\n",
    "    review_button.click()\n",
    "    time.sleep(2)\n",
    "\n",
    "except Exception as e : \n",
    "    print(\"리뷰 탭 클릭 실패 : \", e)\n",
    "\n",
    "\n",
    "scroll_pause = 1\n",
    "last_height =  driver.execute_script(\"return document.body.scrollHeight\")\n",
    "\n",
    "for _ in range(5) :\n",
    "    driver.execute_script(\"window.scrollTo(0, document.body.scrollHeight)\")\n",
    "    time.sleep(scroll_pause)\n",
    "    new_height = driver.execute_script(\"return document.body.scrollHeight\")\n",
    "    if new_height == last_height :\n",
    "        break\n",
    "    last_height = new_height \n",
    "\n",
    "soup = BeautifulSoup(driver.page_source, \"html.parser\")\n",
    "\n",
    "product_name = soup.select_one(\"span.text-title_18px_med.sc-1omefes-1.exqQRL.font-pretendard\").get_text(strip=True)\n",
    "\n",
    "reviews_cards = soup.select(\"div.GoodsReviewStaticList__Container-sc-s1ucwv-0.lnqPxe\")\n",
    "\n",
    "\n",
    "reviews = []\n",
    "for card in reviews_cards :\n",
    "    text_tags = card.select(\"span.text-body_13px_reg.text-black.font-pretendard\")\n",
    "    for tag in text_tags :\n",
    "        text = tag.get_text(strip=True)\n",
    "        if text and len(text) > 10 :\n",
    "            reviews.append(text)\n",
    "\n",
    "reviews = list(set(reviews))\n",
    "\n",
    "print(f\"상품명 : {product_name}\")\n",
    "for idx, review in enumerate(reviews, start=1) :\n",
    "    print(f\"{idx}, {review}\")"
   ]
  }
 ],
 "metadata": {
  "kernelspec": {
   "display_name": "Python [conda env:base] *",
   "language": "python",
   "name": "conda-base-py"
  },
  "language_info": {
   "codemirror_mode": {
    "name": "ipython",
    "version": 3
   },
   "file_extension": ".py",
   "mimetype": "text/x-python",
   "name": "python",
   "nbconvert_exporter": "python",
   "pygments_lexer": "ipython3",
   "version": "3.13.5"
  }
 },
 "nbformat": 4,
 "nbformat_minor": 5
}
