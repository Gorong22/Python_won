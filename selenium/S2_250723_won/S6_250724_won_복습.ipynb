{
 "cells": [
  {
   "cell_type": "code",
   "execution_count": 2,
   "id": "68e97488-fd51-4154-81c9-19a90a1779f6",
   "metadata": {},
   "outputs": [
    {
     "name": "stdout",
     "output_type": "stream",
     "text": [
      "(왕초보) - 클래스 소개\n",
      "(왕초보) - 블로그 개발 필요한 준비물 준비하기\n",
      "(왕초보) - Github pages 설정해서 블로그 첫 페이지 만들어보기\n",
      "(왕초보) - 초간단 페이지 만들어보기\n",
      "(왕초보) - 이쁘게 테마 적용해보기\n",
      "(왕초보) - 마크다운 기초 이해하고, 실제 나만의 블로그 페이지 만들기\n",
      "(왕초보) - 다양한 마크다운 기법 익혀보며, 나만의 블로그 페이지 꾸며보기\n",
      "(초급) - 강사가 실제 사용하는 자동 프로그램 소개 [2]\n",
      "(초급) - 필요한 프로그램 설치 시연 [5]\n",
      "(초급) - 데이터를 엑셀 파일로 만들기 [9]\n",
      "(초급) -     엑셀 파일 이쁘게! 이쁘게! [8]\n",
      "(초급) -     나대신 주기적으로 파이썬 프로그램 실행하기 [7]\n",
      "(초급) - 파이썬으로 슬랙(slack) 메신저에 글쓰기 [40]\n",
      "(초급) - 웹사이트 변경사항 주기적으로 체크해서, 메신저로 알람주기 [12]\n",
      "(초급) - 네이버 API 사용해서, 블로그에 글쓰기 [42]\n",
      "(중급) - 자동으로 쿠팡파트너스 API 로 가져온 상품 정보, 네이버 블로그/트위터에 홍보하기 [412]\n"
     ]
    }
   ],
   "source": [
    "from selenium import webdriver\n",
    "from selenium.webdriver.chrome.service import Service\n",
    "from selenium.webdriver.chrome.options import Options\n",
    "from selenium.webdriver.common.by import By\n",
    "import time \n",
    "import re\n",
    "\n",
    "url = \"https://crawlingtest.netlify.app/\"\n",
    "\n",
    "driver = webdriver.Chrome()\n",
    "\n",
    "driver.get(url)\n",
    "\n",
    "time.sleep(2)\n",
    "\n",
    "link = driver.find_elements(By.XPATH, \"//a[@href]\")\n",
    "for links in link :\n",
    "    print(links.text)\n",
    "\n"
   ]
  },
  {
   "cell_type": "code",
   "execution_count": 6,
   "id": "48dc51c1-2aca-4795-8548-505f1af2f244",
   "metadata": {},
   "outputs": [
    {
     "name": "stdout",
     "output_type": "stream",
     "text": [
      "왕초보를 위한 파이썬\n",
      "입문자를 위한 파이썬 프로그래밍\n",
      "파이썬 입문과 크롤링기초 부트캠프\n",
      "프로그래밍과 파이썬 기초 및 데이터를 프로그래밍으로 다루기\n",
      "파이썬과 Selenium / Scrapy\n",
      "현존 최강 크롤링 기술과 프로그래밍 중급\n",
      "SQL/DB(MySQL) 기본과 활용\n",
      "데이터를 다루는 데이터베이스 기초와 파이썬 기반 활용\n",
      "처음하는 파이썬 데이터 분석\n",
      "데이터의 전처리부터 pandas, plotly (시각화), 분석 이론까지\n"
     ]
    }
   ],
   "source": [
    "from selenium import webdriver\n",
    "from selenium.webdriver.chrome.service import Service\n",
    "from selenium.webdriver.chrome.options import Options\n",
    "from selenium.webdriver.common.by import By\n",
    "import time \n",
    "import re\n",
    "\n",
    "url = \"https://divjason.github.io/sellenium-test/index.html?\"\n",
    "\n",
    "driver = webdriver.Chrome()\n",
    "\n",
    "driver.get(url)\n",
    "\n",
    "time.sleep(2)\n",
    "\n",
    "link = driver.find_elements(By.XPATH, \"//div[@class='class-desc']\")\n",
    "for links in link :\n",
    "    if \"파이썬\" in links.text:\n",
    "        print(links.text)"
   ]
  },
  {
   "cell_type": "code",
   "execution_count": 7,
   "id": "9ff1dfa3-19b5-4759-aaef-257b1d7893b0",
   "metadata": {},
   "outputs": [
    {
     "name": "stdout",
     "output_type": "stream",
     "text": [
      "IT는 배우는 방법을 익혀야합니다\n",
      "누구나 쓱 읽고, 싹 이해하는 IT 핵심 기술\n",
      "왕초보를 위한 파이썬\n",
      "리눅스 커널 프로그래밍\n",
      "\n",
      "파이썬 입문과 크롤링기초 부트캠프\n",
      "파이썬과 Selenium / Scrapy\n",
      "SQL/DB(MySQL) 기본과 활용\n",
      "처음하는 파이썬 데이터 분석\n",
      "\n",
      "운영체제와 시스템 프로그래밍\n",
      "자료구조 / 알고리즘 / 기술면접까지\n"
     ]
    }
   ],
   "source": [
    "from selenium import webdriver\n",
    "from selenium.webdriver.chrome.service import Service\n",
    "from selenium.webdriver.chrome.options import Options\n",
    "from selenium.webdriver.common.by import By\n",
    "import time \n",
    "import re\n",
    "\n",
    "url = \"https://divjason.github.io/sellenium-test/index.html?\"\n",
    "\n",
    "driver = webdriver.Chrome()\n",
    "\n",
    "driver.get(url)\n",
    "\n",
    "time.sleep(2)\n",
    "\n",
    "link = driver.find_elements(By.XPATH, \"//div[@class='class-title']\")\n",
    "for links in link :\n",
    "    print(links.text)"
   ]
  },
  {
   "cell_type": "code",
   "execution_count": 8,
   "id": "54e247b4-133d-4a9a-a278-161687b6e759",
   "metadata": {},
   "outputs": [
    {
     "name": "stdout",
     "output_type": "stream",
     "text": [
      "파이썬 입문과 크롤링기초 부트캠프\n",
      "프로그래밍과 파이썬 기초 및 데이터를 프로그래밍으로 다루기\n",
      "SQL/DB(MySQL) 기본과 활용\n",
      "데이터를 다루는 데이터베이스 기초와 파이썬 기반 활용\n",
      "처음하는 파이썬 데이터 분석\n",
      "데이터의 전처리부터 pandas, plotly (시각화), 분석 이론까지\n"
     ]
    }
   ],
   "source": [
    "from selenium import webdriver\n",
    "from selenium.webdriver.chrome.service import Service\n",
    "from selenium.webdriver.chrome.options import Options\n",
    "from selenium.webdriver.common.by import By\n",
    "import time \n",
    "import re\n",
    "\n",
    "url = \"https://divjason.github.io/sellenium-test/index.html?\"\n",
    "\n",
    "driver = webdriver.Chrome()\n",
    "\n",
    "driver.get(url)\n",
    "\n",
    "time.sleep(2)\n",
    "\n",
    "link = driver.find_elements(By.XPATH, \"//div[@class='class-desc']\")\n",
    "for links in link :\n",
    "    if \"데이터\" in links.text:\n",
    "        print(links.text)"
   ]
  },
  {
   "cell_type": "code",
   "execution_count": 9,
   "id": "85d3d441-eb1e-40b0-bf8e-0fba1b895038",
   "metadata": {},
   "outputs": [
    {
     "name": "stdout",
     "output_type": "stream",
     "text": [
      "리눅스 커널 프로그래밍\n",
      "고급 개발자를 위한 리눅스 커널 분석과 개발\n"
     ]
    }
   ],
   "source": [
    "from selenium import webdriver\n",
    "from selenium.webdriver.chrome.service import Service\n",
    "from selenium.webdriver.chrome.options import Options\n",
    "from selenium.webdriver.common.by import By\n",
    "import time \n",
    "import re\n",
    "\n",
    "url = \"https://divjason.github.io/sellenium-test/index.html?\"\n",
    "\n",
    "driver = webdriver.Chrome()\n",
    "\n",
    "driver.get(url)\n",
    "\n",
    "time.sleep(2)\n",
    "count = 0\n",
    "link = driver.find_elements(By.XPATH, \"//div[@class='class-desc']\")\n",
    "for links in link :\n",
    "    if \"리눅스\" in links.text:\n",
    "        count += 1 \n",
    "        print(links.text)"
   ]
  },
  {
   "cell_type": "code",
   "execution_count": 15,
   "id": "b67a7dc3-fe10-4d4e-b475-e0ca32943b5d",
   "metadata": {},
   "outputs": [
    {
     "name": "stdout",
     "output_type": "stream",
     "text": [
      "상품명: 보몽드 순면스퀘어 솔리드 누빔매트커버, 다크블루\n",
      "상품명: 슈에뜨룸 선인장 리플 침구 세트, 베이지\n",
      "상품명: 선우랜드 레인보우 2단 문걸이용 옷걸이 _중형, 화이트, 상세페이지참조\n",
      "상품명: 보드래 헬로우 누빔 매트리스커버, 핑크\n",
      "상품명: 보드래 퍼펙트 누빔 매트리스커버, 차콜\n",
      "상품명: 피아블 클래식 방수 매트리스커버, 화이트\n",
      "상품명: 더자리 에코항균 마이크로 매트리스커버, 밀키차콜그레이\n",
      "상품명: 더자리 프레쉬 퓨어 매트리스 커버, 퓨어 차콜그레이\n",
      "상품명: 몽쉐어 알러스킨 항균 매트리스 커버, 카키그레이\n",
      "상품명: 쿠팡 브랜드 - 코멧 홈 40수 트윌 순면 100% 홑겹 매트리스커버, 그레이\n",
      "상품명: 패브릭아트 항균 마이크로 원단 매트리스 커버, 아이보리\n",
      "상품명: 바숨 순면 누빔 침대 매트리스커버, 차콜\n",
      "상품명: WEMAX 다용도 문옷걸이, 화이트, 1개\n",
      "상품명: 타카타카 프리미엄 나노 화이바 누빔 매트리스 커버, 젠틀핑핑\n",
      "상품명: 보몽드 순면스퀘어 누빔매트커버, 다크그레이\n",
      "상품명: 보드래 국내산 순면 60수 누빔 매트리스커버, 그레이\n"
     ]
    }
   ],
   "source": [
    "from selenium import webdriver\n",
    "from selenium.webdriver.chrome.service import Service\n",
    "from selenium.webdriver.chrome.options import Options\n",
    "from selenium.webdriver.common.by import By\n",
    "import time \n",
    "import re\n",
    "\n",
    "url = \"https://davelee-fun.github.io/\"\n",
    "\n",
    "driver = webdriver.Chrome()\n",
    "\n",
    "driver.get(url)\n",
    "time.sleep(3)\n",
    "\n",
    "product = driver.find_elements(By.CSS_SELECTOR, \"div.card-body>h4.card-text\")\n",
    "for products in product :\n",
    "    print(products.text)"
   ]
  },
  {
   "cell_type": "code",
   "execution_count": 16,
   "id": "6026908e-2915-4a24-ae66-855b4f70a719",
   "metadata": {},
   "outputs": [
    {
     "name": "stdout",
     "output_type": "stream",
     "text": [
      "상품명: 보몽드 순면스퀘어 솔리드 누빔매트커버, 다크블루\n",
      "상품명: 슈에뜨룸 선인장 리플 침구 세트, 베이지\n",
      "상품명: 선우랜드 레인보우 2단 문걸이용 옷걸이 _중형, 화이트, 상세페이지참조\n",
      "상품명: 보드래 헬로우 누빔 매트리스커버, 핑크\n",
      "상품명: 보드래 퍼펙트 누빔 매트리스커버, 차콜\n",
      "상품명: 피아블 클래식 방수 매트리스커버, 화이트\n",
      "상품명: 더자리 에코항균 마이크로 매트리스커버, 밀키차콜그레이\n",
      "상품명: 더자리 프레쉬 퓨어 매트리스 커버, 퓨어 차콜그레이\n",
      "상품명: 몽쉐어 알러스킨 항균 매트리스 커버, 카키그레이\n",
      "상품명: 쿠팡 브랜드 - 코멧 홈 40수 트윌 순면 100% 홑겹 매트리스커버, 그레이\n",
      "상품명: 패브릭아트 항균 마이크로 원단 매트리스 커버, 아이보리\n",
      "상품명: 바숨 순면 누빔 침대 매트리스커버, 차콜\n",
      "상품명: WEMAX 다용도 문옷걸이, 화이트, 1개\n",
      "상품명: 타카타카 프리미엄 나노 화이바 누빔 매트리스 커버, 젠틀핑핑\n",
      "상품명: 보몽드 순면스퀘어 누빔매트커버, 다크그레이\n",
      "상품명: 보드래 국내산 순면 60수 누빔 매트리스커버, 그레이\n"
     ]
    }
   ],
   "source": [
    "from selenium import webdriver\n",
    "from selenium.webdriver.chrome.service import Service\n",
    "from selenium.webdriver.chrome.options import Options\n",
    "from selenium.webdriver.common.by import By\n",
    "import time \n",
    "import re\n",
    "\n",
    "url = \"https://davelee-fun.github.io/\"\n",
    "\n",
    "driver = webdriver.Chrome()\n",
    "\n",
    "driver.get(url)\n",
    "time.sleep(3)\n",
    "\n",
    "product = driver.find_elements(By.XPATH, \"//h4[@class='card-text']\")\n",
    "for products in product :\n",
    "    print(products.text)"
   ]
  },
  {
   "cell_type": "code",
   "execution_count": 20,
   "id": "5f8fd167-92c0-47e3-8495-674f5afda0c3",
   "metadata": {},
   "outputs": [
    {
     "ename": "SyntaxError",
     "evalue": "unexpected character after line continuation character (4199316264.py, line 16)",
     "output_type": "error",
     "traceback": [
      "\u001b[1;36m  Cell \u001b[1;32mIn[20], line 16\u001b[1;36m\u001b[0m\n\u001b[1;33m    print(alls.text(\\n))\u001b[0m\n\u001b[1;37m                     ^\u001b[0m\n\u001b[1;31mSyntaxError\u001b[0m\u001b[1;31m:\u001b[0m unexpected character after line continuation character\n"
     ]
    }
   ],
   "source": [
    "from selenium import webdriver\n",
    "from selenium.webdriver.chrome.service import Service\n",
    "from selenium.webdriver.chrome.options import Options\n",
    "from selenium.webdriver.common.by import By\n",
    "import time\n",
    "import re \n",
    "\n",
    "url = \"https://davelee-fun.github.io/\"\n",
    "driver2 = webdriver.Chrome()\n",
    "\n",
    "driver2.get(url)\n",
    "time.sleep(3)\n",
    "\n",
    "all = driver2.find_elements(By.XPATH, \"//div[@class='card-body']\")\n",
    "for alls in all :\n",
    "    print(alls.text)"
   ]
  }
 ],
 "metadata": {
  "kernelspec": {
   "display_name": "Python [conda env:base] *",
   "language": "python",
   "name": "conda-base-py"
  },
  "language_info": {
   "codemirror_mode": {
    "name": "ipython",
    "version": 3
   },
   "file_extension": ".py",
   "mimetype": "text/x-python",
   "name": "python",
   "nbconvert_exporter": "python",
   "pygments_lexer": "ipython3",
   "version": "3.13.5"
  }
 },
 "nbformat": 4,
 "nbformat_minor": 5
}
