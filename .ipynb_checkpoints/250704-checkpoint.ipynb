{
 "cells": [
  {
   "cell_type": "code",
   "execution_count": 20,
   "id": "1388fd71-d4f8-45ed-a681-9868b087d256",
   "metadata": {},
   "outputs": [
    {
     "name": "stdin",
     "output_type": "stream",
     "text": [
      "숫자를 입력하세요 1\n",
      "숫자를 입력하세요 2\n",
      "숫자를 입력하세요 64\n",
      "숫자를 입력하세요 2\n",
      "숫자를 입력하세요 46\n"
     ]
    },
    {
     "name": "stdout",
     "output_type": "stream",
     "text": [
      "당신이 입력한 홀수는[1]이며 짝수는 [2, 64, 2, 46]입니다\n"
     ]
    }
   ],
   "source": [
    "even = []\n",
    "odd = []\n",
    "\n",
    "for _ in range(5):\n",
    "    Q1 = int(input(\"숫자를 입력하세요\"))\n",
    "    if Q1 % 2 == 0 :\n",
    "        even.append(Q1)       \n",
    "    else:\n",
    "        odd.append(Q1)\n",
    "print(f\"당신이 입력한 홀수는{odd}이며 짝수는 {even}입니다\")"
   ]
  },
  {
   "cell_type": "code",
   "execution_count": null,
   "id": "350f53e8-18a8-42a4-a27d-f15726b0c0ce",
   "metadata": {},
   "outputs": [],
   "source": []
  },
  {
   "cell_type": "code",
   "execution_count": 18,
   "id": "63069b42-0055-402e-a1da-741e97dcb38a",
   "metadata": {},
   "outputs": [
    {
     "name": "stdin",
     "output_type": "stream",
     "text": [
      "숫자를 입력하세요:  2\n"
     ]
    },
    {
     "name": "stdout",
     "output_type": "stream",
     "text": [
      "당신이 입력한 짝수는 [2]입니다.\n"
     ]
    },
    {
     "name": "stdin",
     "output_type": "stream",
     "text": [
      "숫자를 입력하세요:  1\n"
     ]
    },
    {
     "name": "stdout",
     "output_type": "stream",
     "text": [
      "당신이 입력한 홀수는 [1]입니다.\n"
     ]
    },
    {
     "name": "stdin",
     "output_type": "stream",
     "text": [
      "숫자를 입력하세요:  4\n"
     ]
    },
    {
     "name": "stdout",
     "output_type": "stream",
     "text": [
      "당신이 입력한 짝수는 [2, 4]입니다.\n"
     ]
    },
    {
     "name": "stdin",
     "output_type": "stream",
     "text": [
      "숫자를 입력하세요:  5\n"
     ]
    },
    {
     "name": "stdout",
     "output_type": "stream",
     "text": [
      "당신이 입력한 홀수는 [1, 5]입니다.\n"
     ]
    },
    {
     "name": "stdin",
     "output_type": "stream",
     "text": [
      "숫자를 입력하세요:  1\n"
     ]
    },
    {
     "name": "stdout",
     "output_type": "stream",
     "text": [
      "당신이 입력한 홀수는 [1, 5, 1]입니다.\n"
     ]
    }
   ],
   "source": [
    "even = []\n",
    "odd = []\n",
    "\n",
    "for _ in range(5):\n",
    "    Q1 = int(input(\"숫자를 입력하세요: \"))\n",
    "    if Q1 % 2 == 0:\n",
    "        even.append(Q1)\n",
    "        print(f\"당신이 입력한 짝수는 {even}입니다.\")  # 들여쓰기 O\n",
    "    else:\n",
    "        odd.append(Q1)\n",
    "        print(f\"당신이 입력한 홀수는 {odd}입니다.\")  # 들여쓰기 O"
   ]
  },
  {
   "cell_type": "code",
   "execution_count": 29,
   "id": "3bffa893-1a3f-4227-a3b7-9cd5b952278c",
   "metadata": {},
   "outputs": [
    {
     "name": "stdin",
     "output_type": "stream",
     "text": [
      "당신이 좋아하는 과일을 입력햊쉐요 사과\n",
      "당신이 좋아하는 과일을 입력햊쉐요 배\n",
      "당신이 좋아하는 과일을 입력햊쉐요 참외\n",
      "당신이 좋아하는 과일을 입력햊쉐요 수박\n",
      "당신이 좋아하는 과일을 입력햊쉐요 포도\n"
     ]
    },
    {
     "name": "stdout",
     "output_type": "stream",
     "text": [
      "당신이 좋아하는 과일중 내가 좋아하는 과일은 ['사과']입니다\n"
     ]
    }
   ],
   "source": [
    "basket = []\n",
    "for _ in range(5):\n",
    "    Q1 = input(\"당신이 좋아하는 과일을 입력햊쉐요\")\n",
    "    if Q1 == \"사과\":\n",
    "        basket.append(Q1)\n",
    "        \n",
    "print(f\"당신이 좋아하는 과일중 내가 좋아하는 과일은 {basket}입니다\")"
   ]
  },
  {
   "cell_type": "code",
   "execution_count": 2,
   "id": "1390b981-072b-4b50-a3de-f6fccfa9dfd0",
   "metadata": {},
   "outputs": [
    {
     "name": "stdout",
     "output_type": "stream",
     "text": [
      "나는 총5번 등장했습니다\n"
     ]
    }
   ],
   "source": [
    "Q1 = \"나는 오늘 나에게 말했따. 나는 할 수 있어 나는 짱이야 나는 개 쩔어\"\n",
    "Q2 = Q1.count(\"나\")\n",
    "print(f\"나는 총{Q2}번 등장했습니다\")"
   ]
  },
  {
   "cell_type": "code",
   "execution_count": 3,
   "id": "9f23a5e6-ab77-4edd-9a56-d8973c2db4c4",
   "metadata": {},
   "outputs": [
    {
     "name": "stdout",
     "output_type": "stream",
     "text": [
      "짝수의 합은 27입니다\n"
     ]
    }
   ],
   "source": [
    "numbers = [1, 2, 3, 4, 5, 6, 7, 8, 9, 10]\n",
    "total = 0\n",
    "for num in numbers :\n",
    "    if num & 2 == 0 :\n",
    "        total += num\n",
    "print(f\"짝수의 합은 {total}입니다\")        "
   ]
  },
  {
   "cell_type": "code",
   "execution_count": 2,
   "id": "ea61099f-0fe2-40ee-b70f-9632bed00e44",
   "metadata": {},
   "outputs": [
    {
     "name": "stdin",
     "output_type": "stream",
     "text": [
      "숫자를 입력하세요 4\n"
     ]
    },
    {
     "name": "stdout",
     "output_type": "stream",
     "text": [
      "짝수입니다\n"
     ]
    }
   ],
   "source": [
    "Q1 = int(input(\"숫자를 입력하세요\"))\n",
    "if Q1 & 2 == 0:\n",
    "    print(\"짝수입니다\")\n",
    "else :\n",
    "    print(\"홀수입니다\")"
   ]
  },
  {
   "cell_type": "code",
   "execution_count": 4,
   "id": "5d8bdca0-9996-41ab-acaf-93ba294ccf34",
   "metadata": {},
   "outputs": [
    {
     "name": "stdin",
     "output_type": "stream",
     "text": [
      "숫자를 입력하세요 1\n",
      "숫자를 입력하세요 5\n",
      "숫자를 입력하세요 6\n"
     ]
    },
    {
     "name": "stdout",
     "output_type": "stream",
     "text": [
      "가장 큰수는 6입니다\n"
     ]
    }
   ],
   "source": [
    "num = []\n",
    "for _ in range(3):\n",
    "    Q1 = int(input(\"숫자를 입력하세요\"))\n",
    "    num.append(Q1)\n",
    "print(f\"가장 큰수는 {max(num)}입니다\")"
   ]
  },
  {
   "cell_type": "code",
   "execution_count": 8,
   "id": "2a8a2841-2a3f-4776-ad18-38ad5b5f6ebd",
   "metadata": {},
   "outputs": [
    {
     "name": "stdin",
     "output_type": "stream",
     "text": [
      "문장을 입력하세요 아니 시발 존나 안녕하세요\n"
     ]
    },
    {
     "name": "stdout",
     "output_type": "stream",
     "text": [
      "인사 발견!\n"
     ]
    }
   ],
   "source": [
    "word = []\n",
    "Q1 = input(\"문장을 입력하세요\")\n",
    "word.append(Q1)\n",
    "if \"안녕\" in Q1:\n",
    "    print(\"인사 발견!\")\n",
    "else:\n",
    "    print(\"인사없음\")"
   ]
  },
  {
   "cell_type": "code",
   "execution_count": 9,
   "id": "5bf3e29c-3043-4ef8-823b-25c9a8b50938",
   "metadata": {},
   "outputs": [
    {
     "name": "stdout",
     "output_type": "stream",
     "text": [
      "총합은 16입니다\n"
     ]
    }
   ],
   "source": [
    "numbers = [3, 7, 1, 5]\n",
    "tortal = 0\n",
    "for num in numbers:\n",
    "    tortal += num\n",
    "print(f\"총합은 {tortal}입니다\")"
   ]
  },
  {
   "cell_type": "code",
   "execution_count": 11,
   "id": "7b582592-7a50-4ac3-bc6f-2f8827ef5412",
   "metadata": {},
   "outputs": [
    {
     "name": "stdout",
     "output_type": "stream",
     "text": [
      "3x1 = 3\n",
      "3x2 = 6\n",
      "3x3 = 9\n",
      "3x4 = 12\n",
      "3x5 = 15\n",
      "3x6 = 18\n",
      "3x7 = 21\n",
      "3x8 = 24\n",
      "3x9 = 27\n"
     ]
    }
   ],
   "source": [
    "for i in range(1,10) :\n",
    "    print(f\"3x{i} = {3 * i}\")"
   ]
  }
 ],
 "metadata": {
  "kernelspec": {
   "display_name": "Python [conda env:base] *",
   "language": "python",
   "name": "conda-base-py"
  },
  "language_info": {
   "codemirror_mode": {
    "name": "ipython",
    "version": 3
   },
   "file_extension": ".py",
   "mimetype": "text/x-python",
   "name": "python",
   "nbconvert_exporter": "python",
   "pygments_lexer": "ipython3",
   "version": "3.13.5"
  }
 },
 "nbformat": 4,
 "nbformat_minor": 5
}
