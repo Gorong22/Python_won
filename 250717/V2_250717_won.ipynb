{
 "cells": [
  {
   "cell_type": "code",
   "execution_count": 6,
   "id": "76452669-a4f7-4fac-a370-4e335e613834",
   "metadata": {},
   "outputs": [
    {
     "data": {
      "text/plain": [
       "2"
      ]
     },
     "execution_count": 6,
     "metadata": {},
     "output_type": "execute_result"
    }
   ],
   "source": [
    "data = \"Dave David\"\n",
    "data.count(\"Dave\")\n",
    "data.count(\"D\")"
   ]
  },
  {
   "cell_type": "code",
   "execution_count": 8,
   "id": "177f1229-b7bb-475e-91de-34ce6e4dc0df",
   "metadata": {},
   "outputs": [
    {
     "data": {
      "text/plain": [
       "11"
      ]
     },
     "execution_count": 8,
     "metadata": {},
     "output_type": "execute_result"
    }
   ],
   "source": [
    "string = \"Dave ID is dave\"\n",
    "string.index(\"D\")\n",
    "string.index(\"d\")"
   ]
  },
  {
   "cell_type": "code",
   "execution_count": 11,
   "id": "5c03d252-ba63-4b04-9538-ddc488b6855c",
   "metadata": {},
   "outputs": [
    {
     "name": "stdout",
     "output_type": "stream",
     "text": [
      "x는 string01 문자열 객체 안에 없습니다\n"
     ]
    }
   ],
   "source": [
    "string01 = \"Dave ID is dave\"\n",
    "string01.find(\"x\")\n",
    "string01.find(\"D\")\n",
    "\n",
    "if string01.find(\"x\") == -1 :\n",
    "    print(\"x는 string01 문자열 객체 안에 없습니다\")"
   ]
  },
  {
   "cell_type": "code",
   "execution_count": 12,
   "id": "a7c5160e-5e72-4555-8933-cb6809d91e6c",
   "metadata": {},
   "outputs": [
    {
     "data": {
      "text/plain": [
       "'1,2,3,4,5'"
      ]
     },
     "execution_count": 12,
     "metadata": {},
     "output_type": "execute_result"
    }
   ],
   "source": [
    "string02 = \"12345\"\n",
    "comma = \",\"\n",
    "\n",
    "comma.join(string02)"
   ]
  },
  {
   "cell_type": "code",
   "execution_count": 17,
   "id": "3a25131e-fe6a-43df-a95d-555fb5c29a3b",
   "metadata": {},
   "outputs": [
    {
     "data": {
      "text/plain": [
       "'    Dave'"
      ]
     },
     "execution_count": 17,
     "metadata": {},
     "output_type": "execute_result"
    }
   ],
   "source": [
    "data01 = \"    Dave           \"\n",
    "data01.strip()\n",
    "\n",
    "data01 = \"    Dave           \"\n",
    "data01.rstrip()"
   ]
  },
  {
   "cell_type": "code",
   "execution_count": 23,
   "id": "ef9868df-ff74-4e05-ba72-e97755b41494",
   "metadata": {},
   "outputs": [
    {
     "data": {
      "text/plain": [
       "'Dave'"
      ]
     },
     "execution_count": 23,
     "metadata": {},
     "output_type": "execute_result"
    }
   ],
   "source": [
    "string03 = \"              999999999999999999999(Dave)8888888            \"\n",
    "string03.strip(\" 98()\")"
   ]
  },
  {
   "cell_type": "code",
   "execution_count": 24,
   "id": "19059778-56d2-412b-bbd6-fd7752fd5c92",
   "metadata": {},
   "outputs": [
    {
     "data": {
      "text/plain": [
       "'DAVE ID IS DAVE'"
      ]
     },
     "execution_count": 24,
     "metadata": {},
     "output_type": "execute_result"
    }
   ],
   "source": [
    "string04 = \"Dave ID is dave\"\n",
    "string04.upper()"
   ]
  },
  {
   "cell_type": "code",
   "execution_count": 25,
   "id": "32a77c35-8cb5-4ffb-8887-34c2225098fe",
   "metadata": {},
   "outputs": [
    {
     "data": {
      "text/plain": [
       "'dave id is dave'"
      ]
     },
     "execution_count": 25,
     "metadata": {},
     "output_type": "execute_result"
    }
   ],
   "source": [
    "string04 = \"Dave ID is dave\"\n",
    "string04.lower()"
   ]
  },
  {
   "cell_type": "code",
   "execution_count": 34,
   "id": "4e7e68f1-7699-43ef-a507-e17e45e8ffbf",
   "metadata": {},
   "outputs": [
    {
     "data": {
      "text/plain": [
       "['Dave', 'goes', 'to', 'Korea']"
      ]
     },
     "execution_count": 34,
     "metadata": {},
     "output_type": "execute_result"
    }
   ],
   "source": [
    "string06 = \"Dave goes to Korea\"\n",
    "string06.split()[3]\n",
    "string06.split(\" \")\n",
    "\n",
    "string07 = \"Dave/goes/to/Korea\"\n",
    "string07.split(\"/\")"
   ]
  },
  {
   "cell_type": "code",
   "execution_count": 46,
   "id": "e8c948a9-09cf-4d34-bc56-ae05b0b36a5f",
   "metadata": {},
   "outputs": [
    {
     "name": "stdout",
     "output_type": "stream",
     "text": [
      "총합: 350\n"
     ]
    }
   ],
   "source": [
    "score = 80, 60, 70, 50, 90\n",
    "\n",
    "total = 0\n",
    "\n",
    "for num in score :\n",
    "    total += num\n",
    "print(\"총합:\",total)"
   ]
  },
  {
   "cell_type": "code",
   "execution_count": 63,
   "id": "03839032-4c4f-4102-9e8c-09d1d3660488",
   "metadata": {},
   "outputs": [
    {
     "name": "stdout",
     "output_type": "stream",
     "text": [
      "['10', ' 11', ' 12', ' 13', ' 14']\n"
     ]
    }
   ],
   "source": [
    "### 문자열 10, 11, 12, 13, 14 해당 값을 리스트 자료 형태로 [10,11,12,13,14]로 변환 시켜 보세요 \n",
    "\n",
    "word = \"10, 11, 12, 13, 14\"\n",
    "word2 = word.split(\",\")\n",
    "\n",
    "print(word2)\n"
   ]
  },
  {
   "cell_type": "code",
   "execution_count": 61,
   "id": "160bf8bf-81c2-4e71-8be5-9adcddb5ab94",
   "metadata": {},
   "outputs": [
    {
     "name": "stdout",
     "output_type": "stream",
     "text": [
      "[10, 11, 12, 13, 14]\n"
     ]
    }
   ],
   "source": [
    "\n",
    "word = \"10, 11, 12, 13, 14\"\n",
    "word2 = word.split(\",\")\n",
    "\n",
    "for index, split_item in enumerate(word2) :\n",
    "    word2[index] = int(split_item)\n",
    "print(word2)"
   ]
  },
  {
   "cell_type": "code",
   "execution_count": 70,
   "id": "6acca373-482d-452c-b7ee-76d48c298de0",
   "metadata": {},
   "outputs": [
    {
     "data": {
      "text/plain": [
       "'David'"
      ]
     },
     "execution_count": 70,
     "metadata": {},
     "output_type": "execute_result"
    }
   ],
   "source": [
    "string08 = \"Dave goes to Korea\"\n",
    "string08.replace(\"Dave\", \"David\")\n",
    "\n",
    "string09 = \"(David)\"\n",
    "string09.replace(\"()\", \"\")\n",
    "\n",
    "string11 = \"(David)\"\n",
    "#string12 = string11.replace(\"(\", \"\")\n",
    "#string12.replace(\")\", \"\")\n",
    "\n",
    "string13 = string11.replace(\"(\", \"\").replace(\")\", \"\")\n",
    "string13"
   ]
  }
 ],
 "metadata": {
  "kernelspec": {
   "display_name": "Python [conda env:base] *",
   "language": "python",
   "name": "conda-base-py"
  },
  "language_info": {
   "codemirror_mode": {
    "name": "ipython",
    "version": 3
   },
   "file_extension": ".py",
   "mimetype": "text/x-python",
   "name": "python",
   "nbconvert_exporter": "python",
   "pygments_lexer": "ipython3",
   "version": "3.13.5"
  }
 },
 "nbformat": 4,
 "nbformat_minor": 5
}
