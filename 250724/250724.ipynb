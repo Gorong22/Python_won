{
 "cells": [
  {
   "cell_type": "code",
   "execution_count": null,
   "id": "5c18e1e8-7a2b-4988-8f58-2dbc971c9e4f",
   "metadata": {},
   "outputs": [],
   "source": []
  }
 ],
 "metadata": {
  "kernelspec": {
   "display_name": "",
   "name": ""
  },
  "language_info": {
   "name": ""
  }
 },
 "nbformat": 4,
 "nbformat_minor": 5
}
